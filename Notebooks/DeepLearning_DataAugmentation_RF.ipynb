{
 "cells": [
  {
   "cell_type": "markdown",
   "metadata": {},
   "source": [
    "# Comparison: RandomForest with Oversampling vs Augmented Data"
   ]
  },
  {
   "cell_type": "markdown",
   "metadata": {},
   "source": [
    "In this blog I'd like to show the difference deep tabular augmentation can have when training a Random Forest on a highly biased data base. In this case, we have a look at credit card fraud, where fraud itself is is way less represented than non-fraud. "
   ]
  },
  {
   "cell_type": "code",
   "execution_count": 82,
   "metadata": {},
   "outputs": [],
   "source": [
    "import pandas as pd\n",
    "import numpy as np\n",
    "import torch\n",
    "from torch import nn\n",
    "from torch import optim\n",
    "from sklearn.preprocessing import StandardScaler\n",
    "from functools import partial\n",
    "import mlprepare as mlp\n",
    "import deep_tabular_augmentation as dta\n",
    "from sklearn.model_selection import train_test_split\n",
    "\n",
    "from sklearn.ensemble import RandomForestClassifier\n",
    "from sklearn.metrics import confusion_matrix"
   ]
  },
  {
   "cell_type": "code",
   "execution_count": 3,
   "metadata": {},
   "outputs": [],
   "source": [
    "device = torch.device('cuda' if torch.cuda.is_available() else 'cpu')\n",
    "\n",
    "DATA_PATH = 'data/creditcard.csv'\n",
    "\n",
    "df = pd.read_csv(DATA_PATH)"
   ]
  },
  {
   "cell_type": "markdown",
   "metadata": {},
   "source": [
    "Let's have a short look at the data:"
   ]
  },
  {
   "cell_type": "code",
   "execution_count": 4,
   "metadata": {},
   "outputs": [
    {
     "data": {
      "text/html": [
       "<div>\n",
       "<style scoped>\n",
       "    .dataframe tbody tr th:only-of-type {\n",
       "        vertical-align: middle;\n",
       "    }\n",
       "\n",
       "    .dataframe tbody tr th {\n",
       "        vertical-align: top;\n",
       "    }\n",
       "\n",
       "    .dataframe thead th {\n",
       "        text-align: right;\n",
       "    }\n",
       "</style>\n",
       "<table border=\"1\" class=\"dataframe\">\n",
       "  <thead>\n",
       "    <tr style=\"text-align: right;\">\n",
       "      <th></th>\n",
       "      <th>Time</th>\n",
       "      <th>V1</th>\n",
       "      <th>V2</th>\n",
       "      <th>V3</th>\n",
       "      <th>V4</th>\n",
       "      <th>V5</th>\n",
       "      <th>V6</th>\n",
       "      <th>V7</th>\n",
       "      <th>V8</th>\n",
       "      <th>V9</th>\n",
       "      <th>...</th>\n",
       "      <th>V21</th>\n",
       "      <th>V22</th>\n",
       "      <th>V23</th>\n",
       "      <th>V24</th>\n",
       "      <th>V25</th>\n",
       "      <th>V26</th>\n",
       "      <th>V27</th>\n",
       "      <th>V28</th>\n",
       "      <th>Amount</th>\n",
       "      <th>Class</th>\n",
       "    </tr>\n",
       "  </thead>\n",
       "  <tbody>\n",
       "    <tr>\n",
       "      <th>0</th>\n",
       "      <td>0.0</td>\n",
       "      <td>-1.359807</td>\n",
       "      <td>-0.072781</td>\n",
       "      <td>2.536347</td>\n",
       "      <td>1.378155</td>\n",
       "      <td>-0.338321</td>\n",
       "      <td>0.462388</td>\n",
       "      <td>0.239599</td>\n",
       "      <td>0.098698</td>\n",
       "      <td>0.363787</td>\n",
       "      <td>...</td>\n",
       "      <td>-0.018307</td>\n",
       "      <td>0.277838</td>\n",
       "      <td>-0.110474</td>\n",
       "      <td>0.066928</td>\n",
       "      <td>0.128539</td>\n",
       "      <td>-0.189115</td>\n",
       "      <td>0.133558</td>\n",
       "      <td>-0.021053</td>\n",
       "      <td>149.62</td>\n",
       "      <td>0</td>\n",
       "    </tr>\n",
       "    <tr>\n",
       "      <th>1</th>\n",
       "      <td>0.0</td>\n",
       "      <td>1.191857</td>\n",
       "      <td>0.266151</td>\n",
       "      <td>0.166480</td>\n",
       "      <td>0.448154</td>\n",
       "      <td>0.060018</td>\n",
       "      <td>-0.082361</td>\n",
       "      <td>-0.078803</td>\n",
       "      <td>0.085102</td>\n",
       "      <td>-0.255425</td>\n",
       "      <td>...</td>\n",
       "      <td>-0.225775</td>\n",
       "      <td>-0.638672</td>\n",
       "      <td>0.101288</td>\n",
       "      <td>-0.339846</td>\n",
       "      <td>0.167170</td>\n",
       "      <td>0.125895</td>\n",
       "      <td>-0.008983</td>\n",
       "      <td>0.014724</td>\n",
       "      <td>2.69</td>\n",
       "      <td>0</td>\n",
       "    </tr>\n",
       "    <tr>\n",
       "      <th>2</th>\n",
       "      <td>1.0</td>\n",
       "      <td>-1.358354</td>\n",
       "      <td>-1.340163</td>\n",
       "      <td>1.773209</td>\n",
       "      <td>0.379780</td>\n",
       "      <td>-0.503198</td>\n",
       "      <td>1.800499</td>\n",
       "      <td>0.791461</td>\n",
       "      <td>0.247676</td>\n",
       "      <td>-1.514654</td>\n",
       "      <td>...</td>\n",
       "      <td>0.247998</td>\n",
       "      <td>0.771679</td>\n",
       "      <td>0.909412</td>\n",
       "      <td>-0.689281</td>\n",
       "      <td>-0.327642</td>\n",
       "      <td>-0.139097</td>\n",
       "      <td>-0.055353</td>\n",
       "      <td>-0.059752</td>\n",
       "      <td>378.66</td>\n",
       "      <td>0</td>\n",
       "    </tr>\n",
       "    <tr>\n",
       "      <th>3</th>\n",
       "      <td>1.0</td>\n",
       "      <td>-0.966272</td>\n",
       "      <td>-0.185226</td>\n",
       "      <td>1.792993</td>\n",
       "      <td>-0.863291</td>\n",
       "      <td>-0.010309</td>\n",
       "      <td>1.247203</td>\n",
       "      <td>0.237609</td>\n",
       "      <td>0.377436</td>\n",
       "      <td>-1.387024</td>\n",
       "      <td>...</td>\n",
       "      <td>-0.108300</td>\n",
       "      <td>0.005274</td>\n",
       "      <td>-0.190321</td>\n",
       "      <td>-1.175575</td>\n",
       "      <td>0.647376</td>\n",
       "      <td>-0.221929</td>\n",
       "      <td>0.062723</td>\n",
       "      <td>0.061458</td>\n",
       "      <td>123.50</td>\n",
       "      <td>0</td>\n",
       "    </tr>\n",
       "    <tr>\n",
       "      <th>4</th>\n",
       "      <td>2.0</td>\n",
       "      <td>-1.158233</td>\n",
       "      <td>0.877737</td>\n",
       "      <td>1.548718</td>\n",
       "      <td>0.403034</td>\n",
       "      <td>-0.407193</td>\n",
       "      <td>0.095921</td>\n",
       "      <td>0.592941</td>\n",
       "      <td>-0.270533</td>\n",
       "      <td>0.817739</td>\n",
       "      <td>...</td>\n",
       "      <td>-0.009431</td>\n",
       "      <td>0.798278</td>\n",
       "      <td>-0.137458</td>\n",
       "      <td>0.141267</td>\n",
       "      <td>-0.206010</td>\n",
       "      <td>0.502292</td>\n",
       "      <td>0.219422</td>\n",
       "      <td>0.215153</td>\n",
       "      <td>69.99</td>\n",
       "      <td>0</td>\n",
       "    </tr>\n",
       "  </tbody>\n",
       "</table>\n",
       "<p>5 rows × 31 columns</p>\n",
       "</div>"
      ],
      "text/plain": [
       "   Time        V1        V2        V3        V4        V5        V6        V7  \\\n",
       "0   0.0 -1.359807 -0.072781  2.536347  1.378155 -0.338321  0.462388  0.239599   \n",
       "1   0.0  1.191857  0.266151  0.166480  0.448154  0.060018 -0.082361 -0.078803   \n",
       "2   1.0 -1.358354 -1.340163  1.773209  0.379780 -0.503198  1.800499  0.791461   \n",
       "3   1.0 -0.966272 -0.185226  1.792993 -0.863291 -0.010309  1.247203  0.237609   \n",
       "4   2.0 -1.158233  0.877737  1.548718  0.403034 -0.407193  0.095921  0.592941   \n",
       "\n",
       "         V8        V9  ...       V21       V22       V23       V24       V25  \\\n",
       "0  0.098698  0.363787  ... -0.018307  0.277838 -0.110474  0.066928  0.128539   \n",
       "1  0.085102 -0.255425  ... -0.225775 -0.638672  0.101288 -0.339846  0.167170   \n",
       "2  0.247676 -1.514654  ...  0.247998  0.771679  0.909412 -0.689281 -0.327642   \n",
       "3  0.377436 -1.387024  ... -0.108300  0.005274 -0.190321 -1.175575  0.647376   \n",
       "4 -0.270533  0.817739  ... -0.009431  0.798278 -0.137458  0.141267 -0.206010   \n",
       "\n",
       "        V26       V27       V28  Amount  Class  \n",
       "0 -0.189115  0.133558 -0.021053  149.62      0  \n",
       "1  0.125895 -0.008983  0.014724    2.69      0  \n",
       "2 -0.139097 -0.055353 -0.059752  378.66      0  \n",
       "3 -0.221929  0.062723  0.061458  123.50      0  \n",
       "4  0.502292  0.219422  0.215153   69.99      0  \n",
       "\n",
       "[5 rows x 31 columns]"
      ]
     },
     "execution_count": 4,
     "metadata": {},
     "output_type": "execute_result"
    }
   ],
   "source": [
    "df.head()"
   ]
  },
  {
   "cell_type": "markdown",
   "metadata": {},
   "source": [
    "Also, let's have a look of how many more non-fraud cases we have compared to fraud cases:"
   ]
  },
  {
   "cell_type": "code",
   "execution_count": 5,
   "metadata": {},
   "outputs": [
    {
     "data": {
      "text/plain": [
       "283823"
      ]
     },
     "execution_count": 5,
     "metadata": {},
     "output_type": "execute_result"
    }
   ],
   "source": [
    "difference_in_class_occurences = df['Class'].value_counts()[0]-df['Class'].value_counts()[1]\n",
    "difference_in_class_occurences"
   ]
  },
  {
   "cell_type": "markdown",
   "metadata": {},
   "source": [
    "In order to make use of the deep tabular augmentation we need to scale the data and then use only those cases, in which class we are interested in, in this case \"Class\" is equal to 1."
   ]
  },
  {
   "cell_type": "code",
   "execution_count": 83,
   "metadata": {},
   "outputs": [],
   "source": [
    "X_train, X_test, y_train, y_test = mlp.split_df(df, dep_var='Class', test_size=0.3, split_mode='random')\n",
    "\n",
    "x_scaler = StandardScaler()\n",
    "\n",
    "X_train_scaled = x_scaler.fit_transform(X_train)\n",
    "\n",
    "X_test_scaled = x_scaler.transform(X_test)\n",
    "\n",
    "X_train_fraud = X_train_scaled[np.where(y_train==1)[0]]\n",
    "X_test_fraud = X_test_scaled[np.where(y_test==1)[0]]"
   ]
  },
  {
   "cell_type": "markdown",
   "metadata": {},
   "source": [
    "For our model to work we need to put our data in a DataLoader (here I use the DataBunch Class from deep data augmentation)."
   ]
  },
  {
   "cell_type": "code",
   "execution_count": 12,
   "metadata": {},
   "outputs": [],
   "source": [
    "datasets = dta.create_datasets(X_train_fraud, y_train.values[np.where(y_train==1)], X_test_fraud, y_test.values[np.where(y_test==1)])\n",
    "data = dta.DataBunch(*dta.create_loaders(datasets, bs=1024))"
   ]
  },
  {
   "cell_type": "markdown",
   "metadata": {},
   "source": [
    "Now we're already good to go. We can define our Variational Encoder Architecture (here: 50->12->12->5->12->12->50) and then use the LearningRate Finder to tell us the best Learning rate:"
   ]
  },
  {
   "cell_type": "code",
   "execution_count": 13,
   "metadata": {},
   "outputs": [],
   "source": [
    "D_in = X_train_fraud.shape[1]\n",
    "VAE_arch = [50, 12, 12]\n",
    "target_name = 'Class'\n",
    "target_class = 1\n",
    "df_cols = list(df.columns)\n",
    "\n",
    "model = dta.Autoencoder(D_in, VAE_arch, latent_dim=5).to(device)\n",
    "opt = optim.Adam(model.parameters(), lr=0.01)\n",
    "loss_func = dta.customLoss()"
   ]
  },
  {
   "cell_type": "code",
   "execution_count": 14,
   "metadata": {},
   "outputs": [],
   "source": [
    "learn = dta.Learner(model, opt, loss_func, data, target_name, target_class, df_cols)\n",
    "\n",
    "run = dta.Runner(cb_funcs=[dta.LR_Find, dta.Recorder])\n",
    "\n",
    "run.fit(100, learn)"
   ]
  },
  {
   "cell_type": "code",
   "execution_count": 15,
   "metadata": {},
   "outputs": [
    {
     "data": {
      "image/png": "[encoded data removed]",
      "text/plain": [
       "<Figure size 432x288 with 1 Axes>"
      ]
     },
     "metadata": {
      "needs_background": "light"
     },
     "output_type": "display_data"
    }
   ],
   "source": [
    "run.recorder.plot(skip_last=5)"
   ]
  },
  {
   "cell_type": "markdown",
   "metadata": {},
   "source": [
    "We set up a desirable learning rate and scheduler for our learning rate:"
   ]
  },
  {
   "cell_type": "code",
   "execution_count": 16,
   "metadata": {},
   "outputs": [],
   "source": [
    "sched = dta.combine_scheds([0.3, 0.7], [dta.sched_cos(0.01, 0.1), dta.sched_cos(0.1, 0.01)])"
   ]
  },
  {
   "cell_type": "markdown",
   "metadata": {},
   "source": [
    "Now, let's train the model:"
   ]
  },
  {
   "cell_type": "code",
   "execution_count": 17,
   "metadata": {},
   "outputs": [
    {
     "name": "stdout",
     "output_type": "stream",
     "text": [
      "epoch: 50\n",
      "train loss is: 250777.15625\n",
      "validation loss is: 89807.21875\n",
      "epoch: 100\n",
      "train loss is: 184203.078125\n",
      "validation loss is: 71237.8828125\n",
      "epoch: 150\n",
      "train loss is: 129945.9765625\n",
      "validation loss is: 81472.5078125\n",
      "epoch: 200\n",
      "train loss is: 95360.5859375\n",
      "validation loss is: 260343.4375\n",
      "epoch: 250\n",
      "train loss is: 75559.625\n",
      "validation loss is: 208241.1875\n",
      "epoch: 300\n",
      "train loss is: 63336.73828125\n",
      "validation loss is: 168084.046875\n",
      "epoch: 350\n",
      "train loss is: 55019.421875\n",
      "validation loss is: 141231.15625\n",
      "epoch: 400\n",
      "train loss is: 48957.48046875\n",
      "validation loss is: 121973.09375\n"
     ]
    }
   ],
   "source": [
    "cbfs = [partial(dta.LossTracker, show_every=50), dta.Recorder, partial(dta.ParamScheduler, 'lr', sched)]\n",
    "model = dta.Autoencoder(nn.Sequential(*dta.get_lin_layers(D_in, [50, 12, 12])),\n",
    "                     nn.Sequential(*dta.get_lin_layers_rev(D_in, [50, 12, 12])),\n",
    "                     latent_dim=5).to(device)\n",
    "opt = optim.Adam(model.parameters(), lr=0.01)\n",
    "learn = dta.Learner(model, opt, loss_func, data, target_name, target_class, df_cols)\n",
    "run = dta.Runner(cb_funcs=cbfs)\n",
    "run.fit(400, learn)"
   ]
  },
  {
   "cell_type": "markdown",
   "metadata": {},
   "source": [
    "Let's see how the created data looks like:"
   ]
  },
  {
   "cell_type": "code",
   "execution_count": 73,
   "metadata": {},
   "outputs": [
    {
     "data": {
      "text/html": [
       "<div>\n",
       "<style scoped>\n",
       "    .dataframe tbody tr th:only-of-type {\n",
       "        vertical-align: middle;\n",
       "    }\n",
       "\n",
       "    .dataframe tbody tr th {\n",
       "        vertical-align: top;\n",
       "    }\n",
       "\n",
       "    .dataframe thead th {\n",
       "        text-align: right;\n",
       "    }\n",
       "</style>\n",
       "<table border=\"1\" class=\"dataframe\">\n",
       "  <thead>\n",
       "    <tr style=\"text-align: right;\">\n",
       "      <th></th>\n",
       "      <th>Time</th>\n",
       "      <th>V1</th>\n",
       "      <th>V2</th>\n",
       "      <th>V3</th>\n",
       "      <th>V4</th>\n",
       "      <th>V5</th>\n",
       "      <th>V6</th>\n",
       "      <th>V7</th>\n",
       "      <th>V8</th>\n",
       "      <th>V9</th>\n",
       "      <th>...</th>\n",
       "      <th>V21</th>\n",
       "      <th>V22</th>\n",
       "      <th>V23</th>\n",
       "      <th>V24</th>\n",
       "      <th>V25</th>\n",
       "      <th>V26</th>\n",
       "      <th>V27</th>\n",
       "      <th>V28</th>\n",
       "      <th>Amount</th>\n",
       "      <th>Class</th>\n",
       "    </tr>\n",
       "  </thead>\n",
       "  <tbody>\n",
       "    <tr>\n",
       "      <th>0</th>\n",
       "      <td>107547.656250</td>\n",
       "      <td>-1.175546</td>\n",
       "      <td>3.190463</td>\n",
       "      <td>-5.880084</td>\n",
       "      <td>5.172310</td>\n",
       "      <td>-0.201045</td>\n",
       "      <td>-2.110816</td>\n",
       "      <td>-2.554305</td>\n",
       "      <td>0.789000</td>\n",
       "      <td>-2.931453</td>\n",
       "      <td>...</td>\n",
       "      <td>0.680436</td>\n",
       "      <td>-0.063858</td>\n",
       "      <td>0.295163</td>\n",
       "      <td>-0.333722</td>\n",
       "      <td>0.318315</td>\n",
       "      <td>0.305315</td>\n",
       "      <td>0.570651</td>\n",
       "      <td>0.418477</td>\n",
       "      <td>59.745529</td>\n",
       "      <td>1</td>\n",
       "    </tr>\n",
       "    <tr>\n",
       "      <th>1</th>\n",
       "      <td>105570.804688</td>\n",
       "      <td>-1.411785</td>\n",
       "      <td>2.465464</td>\n",
       "      <td>-4.638255</td>\n",
       "      <td>3.691925</td>\n",
       "      <td>-1.264926</td>\n",
       "      <td>-1.476137</td>\n",
       "      <td>-2.528746</td>\n",
       "      <td>0.799087</td>\n",
       "      <td>-2.038979</td>\n",
       "      <td>...</td>\n",
       "      <td>0.874525</td>\n",
       "      <td>0.115001</td>\n",
       "      <td>0.530135</td>\n",
       "      <td>-0.186685</td>\n",
       "      <td>0.258670</td>\n",
       "      <td>0.213698</td>\n",
       "      <td>0.545221</td>\n",
       "      <td>0.412415</td>\n",
       "      <td>103.826714</td>\n",
       "      <td>1</td>\n",
       "    </tr>\n",
       "    <tr>\n",
       "      <th>2</th>\n",
       "      <td>104763.757812</td>\n",
       "      <td>-1.315135</td>\n",
       "      <td>2.079836</td>\n",
       "      <td>-3.970082</td>\n",
       "      <td>2.974885</td>\n",
       "      <td>-1.478414</td>\n",
       "      <td>-1.190014</td>\n",
       "      <td>-2.352298</td>\n",
       "      <td>0.718098</td>\n",
       "      <td>-1.687526</td>\n",
       "      <td>...</td>\n",
       "      <td>0.794227</td>\n",
       "      <td>0.149139</td>\n",
       "      <td>0.566353</td>\n",
       "      <td>-0.152397</td>\n",
       "      <td>0.244498</td>\n",
       "      <td>0.140893</td>\n",
       "      <td>0.520099</td>\n",
       "      <td>0.307183</td>\n",
       "      <td>114.956940</td>\n",
       "      <td>1</td>\n",
       "    </tr>\n",
       "    <tr>\n",
       "      <th>3</th>\n",
       "      <td>106964.625000</td>\n",
       "      <td>-1.133216</td>\n",
       "      <td>2.987270</td>\n",
       "      <td>-5.564784</td>\n",
       "      <td>4.863543</td>\n",
       "      <td>-0.300885</td>\n",
       "      <td>-1.990756</td>\n",
       "      <td>-2.479523</td>\n",
       "      <td>0.771097</td>\n",
       "      <td>-2.773068</td>\n",
       "      <td>...</td>\n",
       "      <td>0.650077</td>\n",
       "      <td>-0.045114</td>\n",
       "      <td>0.288558</td>\n",
       "      <td>-0.310352</td>\n",
       "      <td>0.305301</td>\n",
       "      <td>0.276039</td>\n",
       "      <td>0.575313</td>\n",
       "      <td>0.383283</td>\n",
       "      <td>70.325348</td>\n",
       "      <td>1</td>\n",
       "    </tr>\n",
       "    <tr>\n",
       "      <th>4</th>\n",
       "      <td>105466.343750</td>\n",
       "      <td>-1.274740</td>\n",
       "      <td>2.423632</td>\n",
       "      <td>-4.584245</td>\n",
       "      <td>3.720120</td>\n",
       "      <td>-1.073872</td>\n",
       "      <td>-1.501573</td>\n",
       "      <td>-2.430743</td>\n",
       "      <td>0.760877</td>\n",
       "      <td>-2.088018</td>\n",
       "      <td>...</td>\n",
       "      <td>0.771964</td>\n",
       "      <td>0.084755</td>\n",
       "      <td>0.460291</td>\n",
       "      <td>-0.201218</td>\n",
       "      <td>0.260977</td>\n",
       "      <td>0.201086</td>\n",
       "      <td>0.546640</td>\n",
       "      <td>0.366659</td>\n",
       "      <td>101.931236</td>\n",
       "      <td>1</td>\n",
       "    </tr>\n",
       "  </tbody>\n",
       "</table>\n",
       "<p>5 rows × 31 columns</p>\n",
       "</div>"
      ],
      "text/plain": [
       "            Time        V1        V2        V3        V4        V5        V6  \\\n",
       "0  107547.656250 -1.175546  3.190463 -5.880084  5.172310 -0.201045 -2.110816   \n",
       "1  105570.804688 -1.411785  2.465464 -4.638255  3.691925 -1.264926 -1.476137   \n",
       "2  104763.757812 -1.315135  2.079836 -3.970082  2.974885 -1.478414 -1.190014   \n",
       "3  106964.625000 -1.133216  2.987270 -5.564784  4.863543 -0.300885 -1.990756   \n",
       "4  105466.343750 -1.274740  2.423632 -4.584245  3.720120 -1.073872 -1.501573   \n",
       "\n",
       "         V7        V8        V9  ...       V21       V22       V23       V24  \\\n",
       "0 -2.554305  0.789000 -2.931453  ...  0.680436 -0.063858  0.295163 -0.333722   \n",
       "1 -2.528746  0.799087 -2.038979  ...  0.874525  0.115001  0.530135 -0.186685   \n",
       "2 -2.352298  0.718098 -1.687526  ...  0.794227  0.149139  0.566353 -0.152397   \n",
       "3 -2.479523  0.771097 -2.773068  ...  0.650077 -0.045114  0.288558 -0.310352   \n",
       "4 -2.430743  0.760877 -2.088018  ...  0.771964  0.084755  0.460291 -0.201218   \n",
       "\n",
       "        V25       V26       V27       V28      Amount  Class  \n",
       "0  0.318315  0.305315  0.570651  0.418477   59.745529      1  \n",
       "1  0.258670  0.213698  0.545221  0.412415  103.826714      1  \n",
       "2  0.244498  0.140893  0.520099  0.307183  114.956940      1  \n",
       "3  0.305301  0.276039  0.575313  0.383283   70.325348      1  \n",
       "4  0.260977  0.201086  0.546640  0.366659  101.931236      1  \n",
       "\n",
       "[5 rows x 31 columns]"
      ]
     },
     "execution_count": 73,
     "metadata": {},
     "output_type": "execute_result"
    }
   ],
   "source": [
    "df_fake = run.predict_df(learn, no_samples=difference_in_class_occurences, scaler=x_scaler)\n",
    "df_fake_with_noise = run.predict_with_noise_df(learn, no_samples=difference_in_class_occurences, mu=0, sigma=0.1, scaler=x_scaler)\n",
    "df_fake_with_noise.head()"
   ]
  },
  {
   "cell_type": "code",
   "execution_count": 74,
   "metadata": {},
   "outputs": [
    {
     "data": {
      "text/html": [
       "<div>\n",
       "<style scoped>\n",
       "    .dataframe tbody tr th:only-of-type {\n",
       "        vertical-align: middle;\n",
       "    }\n",
       "\n",
       "    .dataframe tbody tr th {\n",
       "        vertical-align: top;\n",
       "    }\n",
       "\n",
       "    .dataframe thead th {\n",
       "        text-align: right;\n",
       "    }\n",
       "</style>\n",
       "<table border=\"1\" class=\"dataframe\">\n",
       "  <thead>\n",
       "    <tr style=\"text-align: right;\">\n",
       "      <th></th>\n",
       "      <th>Time</th>\n",
       "      <th>V1</th>\n",
       "      <th>V2</th>\n",
       "      <th>V3</th>\n",
       "      <th>V4</th>\n",
       "      <th>V5</th>\n",
       "      <th>V6</th>\n",
       "      <th>V7</th>\n",
       "      <th>V8</th>\n",
       "      <th>V9</th>\n",
       "      <th>...</th>\n",
       "      <th>V21</th>\n",
       "      <th>V22</th>\n",
       "      <th>V23</th>\n",
       "      <th>V24</th>\n",
       "      <th>V25</th>\n",
       "      <th>V26</th>\n",
       "      <th>V27</th>\n",
       "      <th>V28</th>\n",
       "      <th>Amount</th>\n",
       "      <th>Class</th>\n",
       "    </tr>\n",
       "  </thead>\n",
       "  <tbody>\n",
       "    <tr>\n",
       "      <th>mean</th>\n",
       "      <td>105288.890625</td>\n",
       "      <td>-1.479125</td>\n",
       "      <td>2.557713</td>\n",
       "      <td>-4.819775</td>\n",
       "      <td>3.855684</td>\n",
       "      <td>-1.171547</td>\n",
       "      <td>-1.542699</td>\n",
       "      <td>-2.576222</td>\n",
       "      <td>0.791697</td>\n",
       "      <td>-2.12214</td>\n",
       "      <td>...</td>\n",
       "      <td>0.860909</td>\n",
       "      <td>0.103987</td>\n",
       "      <td>0.481285</td>\n",
       "      <td>-0.208098</td>\n",
       "      <td>0.249638</td>\n",
       "      <td>0.217605</td>\n",
       "      <td>0.525674</td>\n",
       "      <td>0.399994</td>\n",
       "      <td>99.816528</td>\n",
       "      <td>1.0</td>\n",
       "    </tr>\n",
       "  </tbody>\n",
       "</table>\n",
       "<p>1 rows × 31 columns</p>\n",
       "</div>"
      ],
      "text/plain": [
       "               Time        V1        V2        V3        V4        V5  \\\n",
       "mean  105288.890625 -1.479125  2.557713 -4.819775  3.855684 -1.171547   \n",
       "\n",
       "            V6        V7        V8       V9  ...       V21       V22  \\\n",
       "mean -1.542699 -2.576222  0.791697 -2.12214  ...  0.860909  0.103987   \n",
       "\n",
       "           V23       V24       V25       V26       V27       V28     Amount  \\\n",
       "mean  0.481285 -0.208098  0.249638  0.217605  0.525674  0.399994  99.816528   \n",
       "\n",
       "      Class  \n",
       "mean    1.0  \n",
       "\n",
       "[1 rows x 31 columns]"
      ]
     },
     "execution_count": 74,
     "metadata": {},
     "output_type": "execute_result"
    }
   ],
   "source": [
    "df_fake_with_noise.describe().loc[['mean']]"
   ]
  },
  {
   "cell_type": "markdown",
   "metadata": {},
   "source": [
    "## Train Random Forest"
   ]
  },
  {
   "cell_type": "markdown",
   "metadata": {},
   "source": [
    "We want to compare how the built-in class_weight functionality performs vs the new approach (spoiler: if you do not use any weights the RandomForest will always predict 0). Hence, we create three dataframes: the original, the original appended with fake_data, the original appended with fake data with noise."
   ]
  },
  {
   "cell_type": "code",
   "execution_count": 75,
   "metadata": {},
   "outputs": [],
   "source": [
    "train_df, test_df = train_test_split(df, test_size=0.3, random_state=42)\n",
    "train_df_fake = pd.concat([train_df, df_fake])\n",
    "train_df_fake_with_noise = pd.concat([train_df, df_fake_with_noise])"
   ]
  },
  {
   "cell_type": "markdown",
   "metadata": {},
   "source": [
    "To make things easier to understand, let's define the datasets on which to train and on which to assess the results:"
   ]
  },
  {
   "cell_type": "code",
   "execution_count": 76,
   "metadata": {},
   "outputs": [],
   "source": [
    "X_train, X_test, X_train_aug = train_df.iloc[:,:30].values, test_df.iloc[:,:30].values, train_df_fake_with_noise.iloc[:,:30].values\n",
    "y_train, y_test, y_train_aug = train_df.iloc[:,30].values, test_df.iloc[:,30].values, train_df_fake_with_noise.iloc[:,30].values"
   ]
  },
  {
   "cell_type": "markdown",
   "metadata": {},
   "source": [
    "First, let's train model on the original data while using the differences in class occurences as weights."
   ]
  },
  {
   "cell_type": "code",
   "execution_count": 77,
   "metadata": {},
   "outputs": [],
   "source": [
    "def rf(xs, y, n_estimators=40, max_samples=500,\n",
    "       max_features=0.5, min_samples_leaf=5, **kwargs):\n",
    "    return RandomForestClassifier(n_jobs=-1, n_estimators=n_estimators,\n",
    "        max_samples=max_samples, max_features=max_features,\n",
    "        min_samples_leaf=min_samples_leaf, oob_score=True, class_weight={0:1,1:difference_in_class_occurences}).fit(xs, y)"
   ]
  },
  {
   "cell_type": "code",
   "execution_count": 81,
   "metadata": {},
   "outputs": [
    {
     "data": {
      "text/plain": [
       "array([[85300,     7],\n",
       "       [   99,    37]])"
      ]
     },
     "execution_count": 81,
     "metadata": {},
     "output_type": "execute_result"
    }
   ],
   "source": [
    "m = rf(X_train, y_train)\n",
    "confusion_matrix(y_test, np.round(m.predict(X_test)))"
   ]
  },
  {
   "cell_type": "markdown",
   "metadata": {},
   "source": [
    "Then, we use the augmented dataframe:"
   ]
  },
  {
   "cell_type": "code",
   "execution_count": 79,
   "metadata": {},
   "outputs": [],
   "source": [
    "def rf_aug(xs, y, n_estimators=40, max_samples=500,\n",
    "       max_features=0.5, min_samples_leaf=5, **kwargs):\n",
    "    return RandomForestClassifier(n_jobs=-1, n_estimators=n_estimators,\n",
    "        max_samples=max_samples, max_features=max_features,\n",
    "        min_samples_leaf=min_samples_leaf, oob_score=True).fit(xs, y)"
   ]
  },
  {
   "cell_type": "code",
   "execution_count": 80,
   "metadata": {},
   "outputs": [
    {
     "data": {
      "text/plain": [
       "array([[85288,    19],\n",
       "       [   46,    90]])"
      ]
     },
     "execution_count": 80,
     "metadata": {},
     "output_type": "execute_result"
    }
   ],
   "source": [
    "m_aug = rf_aug(X_train_aug, y_train_aug)\n",
    "confusion_matrix(test_df.iloc[:,30].values, np.round(m_aug.predict(test_df.iloc[:,:30].values)))"
   ]
  },
  {
   "cell_type": "markdown",
   "metadata": {},
   "source": [
    "Wow, I think that is quite astonishing. We managed to highly increase the number of fraud cases we are able to detect. Moreover, we achieved these results without any finetuning of the model architecture and simply using the default structure of the VAE. \n",
    "\n",
    "I hope this blog shed some light on why using this approach on highly biased data is worth a shot trying.\n",
    "\n",
    "Lasse"
   ]
  }
 ],
 "metadata": {
  "interpreter": {
   "hash": "31f2aee4e71d21fbe5cf8b01ff0e069b9275f58929596ceb00d14d90e3e16cd6"
  },
  "kernelspec": {
   "display_name": "Python 3.9.2 64-bit",
   "language": "python",
   "name": "python3"
  },
  "language_info": {
   "codemirror_mode": {
    "name": "ipython",
    "version": 3
   },
   "file_extension": ".py",
   "mimetype": "text/x-python",
   "name": "python",
   "nbconvert_exporter": "python",
   "pygments_lexer": "ipython3",
   "version": "3.8.10"
  },
  "orig_nbformat": 2
 },
 "nbformat": 4,
 "nbformat_minor": 2
}
