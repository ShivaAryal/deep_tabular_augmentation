{
 "metadata": {
  "language_info": {
   "codemirror_mode": {
    "name": "ipython",
    "version": 3
   },
   "file_extension": ".py",
   "mimetype": "text/x-python",
   "name": "python",
   "nbconvert_exporter": "python",
   "pygments_lexer": "ipython3",
   "version": "3.9.2-final"
  },
  "orig_nbformat": 2,
  "kernelspec": {
   "name": "python392jvsc74a57bd0e1ea7b2c4390b6fc1a6745bf6c3375d16393508e059a95c8d09ca3ce58c8786e",
   "display_name": "Python 3.9.2 64-bit"
  }
 },
 "nbformat": 4,
 "nbformat_minor": 2,
 "cells": [
  {
   "cell_type": "code",
   "execution_count": 1,
   "metadata": {},
   "outputs": [],
   "source": [
    "import pandas as pd\n",
    "import numpy as np\n",
    "import torch\n",
    "from sklearn.model_selection import train_test_split\n",
    "from sklearn import preprocessing\n",
    "from sklearn.metrics import confusion_matrix\n",
    "import mlprepare as mlp\n",
    "import deep_tabular_augmentation as dta\n",
    "from torch.utils.data import Dataset, DataLoader\n",
    "from sklearn.ensemble import RandomForestClassifier"
   ]
  },
  {
   "cell_type": "code",
   "execution_count": 2,
   "metadata": {},
   "outputs": [],
   "source": [
    "device = torch.device('cuda' if torch.cuda.is_available() else 'cpu')\n",
    "\n",
    "DATA_PATH = 'data/creditcard.csv'\n",
    "\n",
    "df = pd.read_csv(DATA_PATH)"
   ]
  },
  {
   "cell_type": "code",
   "execution_count": 3,
   "metadata": {},
   "outputs": [
    {
     "output_type": "execute_result",
     "data": {
      "text/plain": [
       "   Time        V1        V2        V3        V4        V5        V6        V7  \\\n",
       "0   0.0 -1.359807 -0.072781  2.536347  1.378155 -0.338321  0.462388  0.239599   \n",
       "1   0.0  1.191857  0.266151  0.166480  0.448154  0.060018 -0.082361 -0.078803   \n",
       "2   1.0 -1.358354 -1.340163  1.773209  0.379780 -0.503198  1.800499  0.791461   \n",
       "3   1.0 -0.966272 -0.185226  1.792993 -0.863291 -0.010309  1.247203  0.237609   \n",
       "4   2.0 -1.158233  0.877737  1.548718  0.403034 -0.407193  0.095921  0.592941   \n",
       "\n",
       "         V8        V9  ...       V21       V22       V23       V24       V25  \\\n",
       "0  0.098698  0.363787  ... -0.018307  0.277838 -0.110474  0.066928  0.128539   \n",
       "1  0.085102 -0.255425  ... -0.225775 -0.638672  0.101288 -0.339846  0.167170   \n",
       "2  0.247676 -1.514654  ...  0.247998  0.771679  0.909412 -0.689281 -0.327642   \n",
       "3  0.377436 -1.387024  ... -0.108300  0.005274 -0.190321 -1.175575  0.647376   \n",
       "4 -0.270533  0.817739  ... -0.009431  0.798278 -0.137458  0.141267 -0.206010   \n",
       "\n",
       "        V26       V27       V28  Amount  Class  \n",
       "0 -0.189115  0.133558 -0.021053  149.62      0  \n",
       "1  0.125895 -0.008983  0.014724    2.69      0  \n",
       "2 -0.139097 -0.055353 -0.059752  378.66      0  \n",
       "3 -0.221929  0.062723  0.061458  123.50      0  \n",
       "4  0.502292  0.219422  0.215153   69.99      0  \n",
       "\n",
       "[5 rows x 31 columns]"
      ],
      "text/html": "<div>\n<style scoped>\n    .dataframe tbody tr th:only-of-type {\n        vertical-align: middle;\n    }\n\n    .dataframe tbody tr th {\n        vertical-align: top;\n    }\n\n    .dataframe thead th {\n        text-align: right;\n    }\n</style>\n<table border=\"1\" class=\"dataframe\">\n  <thead>\n    <tr style=\"text-align: right;\">\n      <th></th>\n      <th>Time</th>\n      <th>V1</th>\n      <th>V2</th>\n      <th>V3</th>\n      <th>V4</th>\n      <th>V5</th>\n      <th>V6</th>\n      <th>V7</th>\n      <th>V8</th>\n      <th>V9</th>\n      <th>...</th>\n      <th>V21</th>\n      <th>V22</th>\n      <th>V23</th>\n      <th>V24</th>\n      <th>V25</th>\n      <th>V26</th>\n      <th>V27</th>\n      <th>V28</th>\n      <th>Amount</th>\n      <th>Class</th>\n    </tr>\n  </thead>\n  <tbody>\n    <tr>\n      <th>0</th>\n      <td>0.0</td>\n      <td>-1.359807</td>\n      <td>-0.072781</td>\n      <td>2.536347</td>\n      <td>1.378155</td>\n      <td>-0.338321</td>\n      <td>0.462388</td>\n      <td>0.239599</td>\n      <td>0.098698</td>\n      <td>0.363787</td>\n      <td>...</td>\n      <td>-0.018307</td>\n      <td>0.277838</td>\n      <td>-0.110474</td>\n      <td>0.066928</td>\n      <td>0.128539</td>\n      <td>-0.189115</td>\n      <td>0.133558</td>\n      <td>-0.021053</td>\n      <td>149.62</td>\n      <td>0</td>\n    </tr>\n    <tr>\n      <th>1</th>\n      <td>0.0</td>\n      <td>1.191857</td>\n      <td>0.266151</td>\n      <td>0.166480</td>\n      <td>0.448154</td>\n      <td>0.060018</td>\n      <td>-0.082361</td>\n      <td>-0.078803</td>\n      <td>0.085102</td>\n      <td>-0.255425</td>\n      <td>...</td>\n      <td>-0.225775</td>\n      <td>-0.638672</td>\n      <td>0.101288</td>\n      <td>-0.339846</td>\n      <td>0.167170</td>\n      <td>0.125895</td>\n      <td>-0.008983</td>\n      <td>0.014724</td>\n      <td>2.69</td>\n      <td>0</td>\n    </tr>\n    <tr>\n      <th>2</th>\n      <td>1.0</td>\n      <td>-1.358354</td>\n      <td>-1.340163</td>\n      <td>1.773209</td>\n      <td>0.379780</td>\n      <td>-0.503198</td>\n      <td>1.800499</td>\n      <td>0.791461</td>\n      <td>0.247676</td>\n      <td>-1.514654</td>\n      <td>...</td>\n      <td>0.247998</td>\n      <td>0.771679</td>\n      <td>0.909412</td>\n      <td>-0.689281</td>\n      <td>-0.327642</td>\n      <td>-0.139097</td>\n      <td>-0.055353</td>\n      <td>-0.059752</td>\n      <td>378.66</td>\n      <td>0</td>\n    </tr>\n    <tr>\n      <th>3</th>\n      <td>1.0</td>\n      <td>-0.966272</td>\n      <td>-0.185226</td>\n      <td>1.792993</td>\n      <td>-0.863291</td>\n      <td>-0.010309</td>\n      <td>1.247203</td>\n      <td>0.237609</td>\n      <td>0.377436</td>\n      <td>-1.387024</td>\n      <td>...</td>\n      <td>-0.108300</td>\n      <td>0.005274</td>\n      <td>-0.190321</td>\n      <td>-1.175575</td>\n      <td>0.647376</td>\n      <td>-0.221929</td>\n      <td>0.062723</td>\n      <td>0.061458</td>\n      <td>123.50</td>\n      <td>0</td>\n    </tr>\n    <tr>\n      <th>4</th>\n      <td>2.0</td>\n      <td>-1.158233</td>\n      <td>0.877737</td>\n      <td>1.548718</td>\n      <td>0.403034</td>\n      <td>-0.407193</td>\n      <td>0.095921</td>\n      <td>0.592941</td>\n      <td>-0.270533</td>\n      <td>0.817739</td>\n      <td>...</td>\n      <td>-0.009431</td>\n      <td>0.798278</td>\n      <td>-0.137458</td>\n      <td>0.141267</td>\n      <td>-0.206010</td>\n      <td>0.502292</td>\n      <td>0.219422</td>\n      <td>0.215153</td>\n      <td>69.99</td>\n      <td>0</td>\n    </tr>\n  </tbody>\n</table>\n<p>5 rows × 31 columns</p>\n</div>"
     },
     "metadata": {},
     "execution_count": 3
    }
   ],
   "source": [
    "df.head()"
   ]
  },
  {
   "source": [
    "We want a balanced dataset, hence we want to create as many fake data as the difference between the two classes."
   ],
   "cell_type": "markdown",
   "metadata": {}
  },
  {
   "cell_type": "code",
   "execution_count": 4,
   "metadata": {},
   "outputs": [
    {
     "output_type": "execute_result",
     "data": {
      "text/plain": [
       "283823"
      ]
     },
     "metadata": {},
     "execution_count": 4
    }
   ],
   "source": [
    "difference_in_class_occurences = df['Class'].value_counts()[0]-df['Class'].value_counts()[1]\n",
    "difference_in_class_occurences"
   ]
  },
  {
   "cell_type": "code",
   "execution_count": 5,
   "metadata": {},
   "outputs": [],
   "source": [
    "cols = df.columns"
   ]
  },
  {
   "cell_type": "code",
   "execution_count": 6,
   "metadata": {},
   "outputs": [],
   "source": [
    "train_df, test_df = train_test_split(df[df['Class']==1], test_size=0.3, random_state=42)"
   ]
  },
  {
   "cell_type": "code",
   "execution_count": 7,
   "metadata": {},
   "outputs": [],
   "source": [
    "X_train_fraud, X_test_fraud, y_train, y_test, scaler_fraud_data = mlp.cont_standardize(train_df.iloc[:,:30], test_df.iloc[:,:30], train_df.iloc[:,30], test_df.iloc[:,30], cat_type=None, transform_y=False, path='scaler_objects/fraud_scaler', standardizer='StandardScaler')"
   ]
  },
  {
   "cell_type": "code",
   "execution_count": 8,
   "metadata": {},
   "outputs": [],
   "source": [
    "class DataBuilder(Dataset):\n",
    "    def __init__(self, X_train, X_test, train=True):\n",
    "        self.X_train, self.X_test = X_train, X_test\n",
    "        if train:\n",
    "            self.X_train['class']=1\n",
    "            self.x = torch.from_numpy(self.X_train.values).type(torch.FloatTensor)\n",
    "            self.len=self.x.shape[0]\n",
    "        else:\n",
    "            self.X_test['class']=1\n",
    "            self.x = torch.from_numpy(self.X_test.values).type(torch.FloatTensor)\n",
    "            self.len=self.x.shape[0]\n",
    "        del self.X_train\n",
    "        del self.X_test\n",
    "    def __getitem__(self,index):      \n",
    "        return self.x[index]\n",
    "    def __len__(self):\n",
    "        return self.len"
   ]
  },
  {
   "cell_type": "code",
   "execution_count": 9,
   "metadata": {},
   "outputs": [],
   "source": [
    "traindata_set=DataBuilder(X_train_fraud, X_test_fraud, train=True)\n",
    "testdata_set=DataBuilder(X_train_fraud, X_test_fraud, train=False)\n",
    "\n",
    "trainloader=DataLoader(dataset=traindata_set,batch_size=1024)\n",
    "testloader=DataLoader(dataset=testdata_set,batch_size=1024)"
   ]
  },
  {
   "cell_type": "code",
   "execution_count": 10,
   "metadata": {},
   "outputs": [
    {
     "output_type": "execute_result",
     "data": {
      "text/plain": [
       "tensor([ 0.6384,  0.5539, -0.0310,  0.1643,  0.8084,  0.5360,  0.7849,  0.4121,\n",
       "         0.1132, -0.0959,  0.2249,  0.3387, -0.5321,  0.9803, -0.0817, -0.9667,\n",
       "         0.2035,  0.3364,  0.6211,  0.6760,  0.6165, -0.0287, -0.6102,  0.2108,\n",
       "        -1.0567,  0.0951,  0.8003,  0.5116,  0.4682,  0.3214,  1.0000])"
      ]
     },
     "metadata": {},
     "execution_count": 10
    }
   ],
   "source": [
    "trainloader.dataset.x[0]"
   ]
  },
  {
   "cell_type": "code",
   "execution_count": 11,
   "metadata": {},
   "outputs": [],
   "source": [
    "D_in = traindata_set.x.shape[1]\n",
    "H = 50\n",
    "H2 = 12\n",
    "\n",
    "autoenc_model = dta.AutoencoderModel(trainloader, testloader, device, D_in, H, H2, latent_dim=5)"
   ]
  },
  {
   "cell_type": "code",
   "execution_count": 12,
   "metadata": {},
   "outputs": [
    {
     "output_type": "stream",
     "name": "stdout",
     "text": [
      "====> Epoch: 200 Average training loss: 24.5862\n",
      "====> Epoch: 200 Average test loss: 30.0532\n",
      "====> Epoch: 400 Average training loss: 19.9307\n",
      "====> Epoch: 400 Average test loss: 25.6350\n",
      "====> Epoch: 600 Average training loss: 17.9302\n",
      "====> Epoch: 600 Average test loss: 23.6630\n",
      "====> Epoch: 800 Average training loss: 16.8525\n",
      "====> Epoch: 800 Average test loss: 22.6172\n",
      "====> Epoch: 1000 Average training loss: 15.6852\n",
      "====> Epoch: 1000 Average test loss: 21.8004\n"
     ]
    }
   ],
   "source": [
    "autoenc_model_fit = autoenc_model.fit(epochs=1000)"
   ]
  },
  {
   "source": [
    "Let's see how the created data looks like:"
   ],
   "cell_type": "markdown",
   "metadata": {}
  },
  {
   "cell_type": "code",
   "execution_count": 13,
   "metadata": {},
   "outputs": [],
   "source": [
    "cols_fake = cols.to_list()\n",
    "cols_fake.remove('Class')"
   ]
  },
  {
   "cell_type": "code",
   "execution_count": 15,
   "metadata": {},
   "outputs": [
    {
     "output_type": "execute_result",
     "data": {
      "text/plain": [
       "            Time        V1        V2        V3        V4        V5        V6  \\\n",
       "0  109272.789062 -2.674968  2.742105 -4.766198  3.369049 -1.304484 -1.170368   \n",
       "1   94793.429688 -2.037335  1.953935 -2.815907  2.604125 -0.827629 -0.885306   \n",
       "2   91415.085938 -3.184056  3.275564 -6.183428  4.601014 -2.728669 -1.287761   \n",
       "3   65620.359375  1.819347  1.418351 -1.374298  9.095325 -0.347908 -3.275415   \n",
       "4   95402.164062 -0.664518  0.981763 -2.693872  2.449151  0.843871 -0.846841   \n",
       "\n",
       "         V7        V8        V9  ...       V21       V22       V23       V24  \\\n",
       "0 -4.006643  1.435492 -1.821178  ...  0.911522  0.156942 -0.264695 -0.043318   \n",
       "1 -0.543145 -0.141685 -0.728007  ...  0.591901 -0.439533 -0.196395 -0.257738   \n",
       "2 -4.666717  1.131586 -2.747678  ...  1.365090  0.214571 -0.216123 -0.064780   \n",
       "3 -7.162862  1.061794 -5.659923  ...  2.559348  0.823909 -0.383635  0.028030   \n",
       "4 -1.351984 -0.287119 -0.594204  ...  0.606944 -0.335811 -0.310156 -0.227214   \n",
       "\n",
       "        V25       V26       V27       V28      Amount  Class  \n",
       "0 -0.041090  0.269360 -0.080869  0.239243   76.993843      1  \n",
       "1  0.354994 -0.065376  0.232742  0.274049   46.496490      1  \n",
       "2  0.004360  0.211144  0.318165  0.215923  145.913071      1  \n",
       "3 -0.833282  0.600049  0.402766 -0.342388   44.143433      1  \n",
       "4  0.233913 -0.070585  0.072488  0.163716   30.300911      1  \n",
       "\n",
       "[5 rows x 31 columns]"
      ],
      "text/html": "<div>\n<style scoped>\n    .dataframe tbody tr th:only-of-type {\n        vertical-align: middle;\n    }\n\n    .dataframe tbody tr th {\n        vertical-align: top;\n    }\n\n    .dataframe thead th {\n        text-align: right;\n    }\n</style>\n<table border=\"1\" class=\"dataframe\">\n  <thead>\n    <tr style=\"text-align: right;\">\n      <th></th>\n      <th>Time</th>\n      <th>V1</th>\n      <th>V2</th>\n      <th>V3</th>\n      <th>V4</th>\n      <th>V5</th>\n      <th>V6</th>\n      <th>V7</th>\n      <th>V8</th>\n      <th>V9</th>\n      <th>...</th>\n      <th>V21</th>\n      <th>V22</th>\n      <th>V23</th>\n      <th>V24</th>\n      <th>V25</th>\n      <th>V26</th>\n      <th>V27</th>\n      <th>V28</th>\n      <th>Amount</th>\n      <th>Class</th>\n    </tr>\n  </thead>\n  <tbody>\n    <tr>\n      <th>0</th>\n      <td>109272.789062</td>\n      <td>-2.674968</td>\n      <td>2.742105</td>\n      <td>-4.766198</td>\n      <td>3.369049</td>\n      <td>-1.304484</td>\n      <td>-1.170368</td>\n      <td>-4.006643</td>\n      <td>1.435492</td>\n      <td>-1.821178</td>\n      <td>...</td>\n      <td>0.911522</td>\n      <td>0.156942</td>\n      <td>-0.264695</td>\n      <td>-0.043318</td>\n      <td>-0.041090</td>\n      <td>0.269360</td>\n      <td>-0.080869</td>\n      <td>0.239243</td>\n      <td>76.993843</td>\n      <td>1</td>\n    </tr>\n    <tr>\n      <th>1</th>\n      <td>94793.429688</td>\n      <td>-2.037335</td>\n      <td>1.953935</td>\n      <td>-2.815907</td>\n      <td>2.604125</td>\n      <td>-0.827629</td>\n      <td>-0.885306</td>\n      <td>-0.543145</td>\n      <td>-0.141685</td>\n      <td>-0.728007</td>\n      <td>...</td>\n      <td>0.591901</td>\n      <td>-0.439533</td>\n      <td>-0.196395</td>\n      <td>-0.257738</td>\n      <td>0.354994</td>\n      <td>-0.065376</td>\n      <td>0.232742</td>\n      <td>0.274049</td>\n      <td>46.496490</td>\n      <td>1</td>\n    </tr>\n    <tr>\n      <th>2</th>\n      <td>91415.085938</td>\n      <td>-3.184056</td>\n      <td>3.275564</td>\n      <td>-6.183428</td>\n      <td>4.601014</td>\n      <td>-2.728669</td>\n      <td>-1.287761</td>\n      <td>-4.666717</td>\n      <td>1.131586</td>\n      <td>-2.747678</td>\n      <td>...</td>\n      <td>1.365090</td>\n      <td>0.214571</td>\n      <td>-0.216123</td>\n      <td>-0.064780</td>\n      <td>0.004360</td>\n      <td>0.211144</td>\n      <td>0.318165</td>\n      <td>0.215923</td>\n      <td>145.913071</td>\n      <td>1</td>\n    </tr>\n    <tr>\n      <th>3</th>\n      <td>65620.359375</td>\n      <td>1.819347</td>\n      <td>1.418351</td>\n      <td>-1.374298</td>\n      <td>9.095325</td>\n      <td>-0.347908</td>\n      <td>-3.275415</td>\n      <td>-7.162862</td>\n      <td>1.061794</td>\n      <td>-5.659923</td>\n      <td>...</td>\n      <td>2.559348</td>\n      <td>0.823909</td>\n      <td>-0.383635</td>\n      <td>0.028030</td>\n      <td>-0.833282</td>\n      <td>0.600049</td>\n      <td>0.402766</td>\n      <td>-0.342388</td>\n      <td>44.143433</td>\n      <td>1</td>\n    </tr>\n    <tr>\n      <th>4</th>\n      <td>95402.164062</td>\n      <td>-0.664518</td>\n      <td>0.981763</td>\n      <td>-2.693872</td>\n      <td>2.449151</td>\n      <td>0.843871</td>\n      <td>-0.846841</td>\n      <td>-1.351984</td>\n      <td>-0.287119</td>\n      <td>-0.594204</td>\n      <td>...</td>\n      <td>0.606944</td>\n      <td>-0.335811</td>\n      <td>-0.310156</td>\n      <td>-0.227214</td>\n      <td>0.233913</td>\n      <td>-0.070585</td>\n      <td>0.072488</td>\n      <td>0.163716</td>\n      <td>30.300911</td>\n      <td>1</td>\n    </tr>\n  </tbody>\n</table>\n<p>5 rows × 31 columns</p>\n</div>"
     },
     "metadata": {},
     "execution_count": 15
    }
   ],
   "source": [
    "df_fake = autoenc_model_fit.predict_df(no_samples=difference_in_class_occurences, cols=cols, scaler=scaler_fraud_data, cont_vars=cols_fake)\n",
    "df_fake['Class']=1\n",
    "df_fake.head()"
   ]
  },
  {
   "source": [
    "Now the data with random noise:"
   ],
   "cell_type": "markdown",
   "metadata": {}
  },
  {
   "cell_type": "code",
   "execution_count": 16,
   "metadata": {},
   "outputs": [
    {
     "output_type": "execute_result",
     "data": {
      "text/plain": [
       "            Time        V1        V2         V3        V4        V5        V6  \\\n",
       "0   50437.527344 -9.556958  4.605006 -12.132256  7.313379 -5.711418 -2.756941   \n",
       "1   96943.054688 -1.593202  1.897814  -3.886051  3.293553  0.368639 -1.002483   \n",
       "2  119730.992188 -2.192357  2.673203  -4.548784  3.282219 -0.932281 -1.227347   \n",
       "3   56635.769531 -2.057692  2.908793  -4.869972  8.968980 -2.642726 -2.814321   \n",
       "4   93458.359375 -1.829165  2.178387  -3.044882  2.720240 -0.768339 -0.923028   \n",
       "\n",
       "          V7        V8        V9  ...       V21       V22       V23       V24  \\\n",
       "0 -11.479061  0.793535 -6.283787  ... -1.163612  0.995176  1.936402 -0.221920   \n",
       "1  -1.777758 -0.862877 -1.318851  ...  0.870760 -0.275088  0.182934 -0.312897   \n",
       "2  -3.483977  1.202486 -1.830701  ...  0.765426  0.013292 -0.271053 -0.155405   \n",
       "3  -9.148726  2.110916 -5.442397  ...  2.330713  0.437243 -0.771630 -0.182962   \n",
       "4  -0.331809  0.547264 -0.655354  ...  0.856194 -0.499558 -0.074313 -0.281293   \n",
       "\n",
       "        V25       V26       V27       V28      Amount  Class  \n",
       "0 -0.612316  0.673865  1.273914  0.103194 -119.967636      1  \n",
       "1  0.197908  0.027455  0.259814  0.142093   73.281860      1  \n",
       "2  0.023373  0.255064 -0.005519  0.217258   66.226250      1  \n",
       "3 -0.346962  0.425942  0.876128 -0.117280   88.198532      1  \n",
       "4  0.327520 -0.066577  0.219212  0.253152   67.516815      1  \n",
       "\n",
       "[5 rows x 31 columns]"
      ],
      "text/html": "<div>\n<style scoped>\n    .dataframe tbody tr th:only-of-type {\n        vertical-align: middle;\n    }\n\n    .dataframe tbody tr th {\n        vertical-align: top;\n    }\n\n    .dataframe thead th {\n        text-align: right;\n    }\n</style>\n<table border=\"1\" class=\"dataframe\">\n  <thead>\n    <tr style=\"text-align: right;\">\n      <th></th>\n      <th>Time</th>\n      <th>V1</th>\n      <th>V2</th>\n      <th>V3</th>\n      <th>V4</th>\n      <th>V5</th>\n      <th>V6</th>\n      <th>V7</th>\n      <th>V8</th>\n      <th>V9</th>\n      <th>...</th>\n      <th>V21</th>\n      <th>V22</th>\n      <th>V23</th>\n      <th>V24</th>\n      <th>V25</th>\n      <th>V26</th>\n      <th>V27</th>\n      <th>V28</th>\n      <th>Amount</th>\n      <th>Class</th>\n    </tr>\n  </thead>\n  <tbody>\n    <tr>\n      <th>0</th>\n      <td>50437.527344</td>\n      <td>-9.556958</td>\n      <td>4.605006</td>\n      <td>-12.132256</td>\n      <td>7.313379</td>\n      <td>-5.711418</td>\n      <td>-2.756941</td>\n      <td>-11.479061</td>\n      <td>0.793535</td>\n      <td>-6.283787</td>\n      <td>...</td>\n      <td>-1.163612</td>\n      <td>0.995176</td>\n      <td>1.936402</td>\n      <td>-0.221920</td>\n      <td>-0.612316</td>\n      <td>0.673865</td>\n      <td>1.273914</td>\n      <td>0.103194</td>\n      <td>-119.967636</td>\n      <td>1</td>\n    </tr>\n    <tr>\n      <th>1</th>\n      <td>96943.054688</td>\n      <td>-1.593202</td>\n      <td>1.897814</td>\n      <td>-3.886051</td>\n      <td>3.293553</td>\n      <td>0.368639</td>\n      <td>-1.002483</td>\n      <td>-1.777758</td>\n      <td>-0.862877</td>\n      <td>-1.318851</td>\n      <td>...</td>\n      <td>0.870760</td>\n      <td>-0.275088</td>\n      <td>0.182934</td>\n      <td>-0.312897</td>\n      <td>0.197908</td>\n      <td>0.027455</td>\n      <td>0.259814</td>\n      <td>0.142093</td>\n      <td>73.281860</td>\n      <td>1</td>\n    </tr>\n    <tr>\n      <th>2</th>\n      <td>119730.992188</td>\n      <td>-2.192357</td>\n      <td>2.673203</td>\n      <td>-4.548784</td>\n      <td>3.282219</td>\n      <td>-0.932281</td>\n      <td>-1.227347</td>\n      <td>-3.483977</td>\n      <td>1.202486</td>\n      <td>-1.830701</td>\n      <td>...</td>\n      <td>0.765426</td>\n      <td>0.013292</td>\n      <td>-0.271053</td>\n      <td>-0.155405</td>\n      <td>0.023373</td>\n      <td>0.255064</td>\n      <td>-0.005519</td>\n      <td>0.217258</td>\n      <td>66.226250</td>\n      <td>1</td>\n    </tr>\n    <tr>\n      <th>3</th>\n      <td>56635.769531</td>\n      <td>-2.057692</td>\n      <td>2.908793</td>\n      <td>-4.869972</td>\n      <td>8.968980</td>\n      <td>-2.642726</td>\n      <td>-2.814321</td>\n      <td>-9.148726</td>\n      <td>2.110916</td>\n      <td>-5.442397</td>\n      <td>...</td>\n      <td>2.330713</td>\n      <td>0.437243</td>\n      <td>-0.771630</td>\n      <td>-0.182962</td>\n      <td>-0.346962</td>\n      <td>0.425942</td>\n      <td>0.876128</td>\n      <td>-0.117280</td>\n      <td>88.198532</td>\n      <td>1</td>\n    </tr>\n    <tr>\n      <th>4</th>\n      <td>93458.359375</td>\n      <td>-1.829165</td>\n      <td>2.178387</td>\n      <td>-3.044882</td>\n      <td>2.720240</td>\n      <td>-0.768339</td>\n      <td>-0.923028</td>\n      <td>-0.331809</td>\n      <td>0.547264</td>\n      <td>-0.655354</td>\n      <td>...</td>\n      <td>0.856194</td>\n      <td>-0.499558</td>\n      <td>-0.074313</td>\n      <td>-0.281293</td>\n      <td>0.327520</td>\n      <td>-0.066577</td>\n      <td>0.219212</td>\n      <td>0.253152</td>\n      <td>67.516815</td>\n      <td>1</td>\n    </tr>\n  </tbody>\n</table>\n<p>5 rows × 31 columns</p>\n</div>"
     },
     "metadata": {},
     "execution_count": 16
    }
   ],
   "source": [
    "df_fake_with_noise = autoenc_model_fit.predict_with_noise_df(no_samples=difference_in_class_occurences, cols=cols, mu=0, sigma=0.05, scaler=scaler_fraud_data, cont_vars=cols_fake)\n",
    "df_fake_with_noise['Class']=1\n",
    "df_fake_with_noise.head()"
   ]
  },
  {
   "cell_type": "code",
   "execution_count": 27,
   "metadata": {},
   "outputs": [
    {
     "output_type": "execute_result",
     "data": {
      "text/plain": [
       "               Time        V1        V2        V3        V4        V5  \\\n",
       "               mean      mean      mean      mean      mean      mean   \n",
       "Class                                                                   \n",
       "1      80746.806911 -4.771948  3.623778 -7.033281  4.542029 -3.151225   \n",
       "\n",
       "             V6        V7        V8        V9  ...       V20       V21  \\\n",
       "           mean      mean      mean      mean  ...      mean      mean   \n",
       "Class                                          ...                       \n",
       "1     -1.397737 -5.568731  0.570636 -2.581123  ...  0.372319  0.713588   \n",
       "\n",
       "            V22       V23      V24       V25       V26       V27       V28  \\\n",
       "           mean      mean     mean      mean      mean      mean      mean   \n",
       "Class                                                                        \n",
       "1      0.014049 -0.040308 -0.10513  0.041449  0.051648  0.170575  0.075667   \n",
       "\n",
       "           Amount  \n",
       "             mean  \n",
       "Class              \n",
       "1      122.211321  \n",
       "\n",
       "[1 rows x 30 columns]"
      ],
      "text/html": "<div>\n<style scoped>\n    .dataframe tbody tr th:only-of-type {\n        vertical-align: middle;\n    }\n\n    .dataframe tbody tr th {\n        vertical-align: top;\n    }\n\n    .dataframe thead tr th {\n        text-align: left;\n    }\n\n    .dataframe thead tr:last-of-type th {\n        text-align: right;\n    }\n</style>\n<table border=\"1\" class=\"dataframe\">\n  <thead>\n    <tr>\n      <th></th>\n      <th>Time</th>\n      <th>V1</th>\n      <th>V2</th>\n      <th>V3</th>\n      <th>V4</th>\n      <th>V5</th>\n      <th>V6</th>\n      <th>V7</th>\n      <th>V8</th>\n      <th>V9</th>\n      <th>...</th>\n      <th>V20</th>\n      <th>V21</th>\n      <th>V22</th>\n      <th>V23</th>\n      <th>V24</th>\n      <th>V25</th>\n      <th>V26</th>\n      <th>V27</th>\n      <th>V28</th>\n      <th>Amount</th>\n    </tr>\n    <tr>\n      <th></th>\n      <th>mean</th>\n      <th>mean</th>\n      <th>mean</th>\n      <th>mean</th>\n      <th>mean</th>\n      <th>mean</th>\n      <th>mean</th>\n      <th>mean</th>\n      <th>mean</th>\n      <th>mean</th>\n      <th>...</th>\n      <th>mean</th>\n      <th>mean</th>\n      <th>mean</th>\n      <th>mean</th>\n      <th>mean</th>\n      <th>mean</th>\n      <th>mean</th>\n      <th>mean</th>\n      <th>mean</th>\n      <th>mean</th>\n    </tr>\n    <tr>\n      <th>Class</th>\n      <th></th>\n      <th></th>\n      <th></th>\n      <th></th>\n      <th></th>\n      <th></th>\n      <th></th>\n      <th></th>\n      <th></th>\n      <th></th>\n      <th></th>\n      <th></th>\n      <th></th>\n      <th></th>\n      <th></th>\n      <th></th>\n      <th></th>\n      <th></th>\n      <th></th>\n      <th></th>\n      <th></th>\n    </tr>\n  </thead>\n  <tbody>\n    <tr>\n      <th>1</th>\n      <td>80746.806911</td>\n      <td>-4.771948</td>\n      <td>3.623778</td>\n      <td>-7.033281</td>\n      <td>4.542029</td>\n      <td>-3.151225</td>\n      <td>-1.397737</td>\n      <td>-5.568731</td>\n      <td>0.570636</td>\n      <td>-2.581123</td>\n      <td>...</td>\n      <td>0.372319</td>\n      <td>0.713588</td>\n      <td>0.014049</td>\n      <td>-0.040308</td>\n      <td>-0.10513</td>\n      <td>0.041449</td>\n      <td>0.051648</td>\n      <td>0.170575</td>\n      <td>0.075667</td>\n      <td>122.211321</td>\n    </tr>\n  </tbody>\n</table>\n<p>1 rows × 30 columns</p>\n</div>"
     },
     "metadata": {},
     "execution_count": 27
    }
   ],
   "source": [
    "df[df['Class']==1].groupby('Class').describe().loc[:,(slice(None),['mean'])]"
   ]
  },
  {
   "cell_type": "code",
   "execution_count": 28,
   "metadata": {},
   "outputs": [
    {
     "output_type": "execute_result",
     "data": {
      "text/plain": [
       "              Time        V1        V2        V3        V4        V5  \\\n",
       "mean  80303.828125 -4.467331  3.469041 -6.645338  4.469844 -3.003313   \n",
       "\n",
       "            V6        V7        V8        V9  ...       V21       V22  \\\n",
       "mean -1.322752 -5.325488  0.590965 -2.527091  ...  0.536949  0.127002   \n",
       "\n",
       "           V23       V24       V25       V26     V27       V28      Amount  \\\n",
       "mean -0.052788 -0.096175  0.028246  0.057165  0.1588  0.067378  115.180275   \n",
       "\n",
       "      Class  \n",
       "mean    1.0  \n",
       "\n",
       "[1 rows x 31 columns]"
      ],
      "text/html": "<div>\n<style scoped>\n    .dataframe tbody tr th:only-of-type {\n        vertical-align: middle;\n    }\n\n    .dataframe tbody tr th {\n        vertical-align: top;\n    }\n\n    .dataframe thead th {\n        text-align: right;\n    }\n</style>\n<table border=\"1\" class=\"dataframe\">\n  <thead>\n    <tr style=\"text-align: right;\">\n      <th></th>\n      <th>Time</th>\n      <th>V1</th>\n      <th>V2</th>\n      <th>V3</th>\n      <th>V4</th>\n      <th>V5</th>\n      <th>V6</th>\n      <th>V7</th>\n      <th>V8</th>\n      <th>V9</th>\n      <th>...</th>\n      <th>V21</th>\n      <th>V22</th>\n      <th>V23</th>\n      <th>V24</th>\n      <th>V25</th>\n      <th>V26</th>\n      <th>V27</th>\n      <th>V28</th>\n      <th>Amount</th>\n      <th>Class</th>\n    </tr>\n  </thead>\n  <tbody>\n    <tr>\n      <th>mean</th>\n      <td>80303.828125</td>\n      <td>-4.467331</td>\n      <td>3.469041</td>\n      <td>-6.645338</td>\n      <td>4.469844</td>\n      <td>-3.003313</td>\n      <td>-1.322752</td>\n      <td>-5.325488</td>\n      <td>0.590965</td>\n      <td>-2.527091</td>\n      <td>...</td>\n      <td>0.536949</td>\n      <td>0.127002</td>\n      <td>-0.052788</td>\n      <td>-0.096175</td>\n      <td>0.028246</td>\n      <td>0.057165</td>\n      <td>0.1588</td>\n      <td>0.067378</td>\n      <td>115.180275</td>\n      <td>1.0</td>\n    </tr>\n  </tbody>\n</table>\n<p>1 rows × 31 columns</p>\n</div>"
     },
     "metadata": {},
     "execution_count": 28
    }
   ],
   "source": [
    "df_fake.describe().loc[['mean']]"
   ]
  },
  {
   "cell_type": "code",
   "execution_count": 29,
   "metadata": {},
   "outputs": [
    {
     "output_type": "execute_result",
     "data": {
      "text/plain": [
       "              Time        V1        V2        V3        V4        V5  \\\n",
       "mean  80299.735488 -4.467342  3.468569 -6.646258  4.469444 -3.003841   \n",
       "\n",
       "            V6        V7        V8        V9  ...      V21       V22  \\\n",
       "mean -1.322793 -5.325636  0.591395 -2.527251  ...  0.53693  0.127035   \n",
       "\n",
       "           V23       V24      V25       V26       V27       V28      Amount  \\\n",
       "mean -0.052864 -0.096146  0.02826  0.057161  0.158841  0.067445  115.172265   \n",
       "\n",
       "      Class  \n",
       "mean    1.0  \n",
       "\n",
       "[1 rows x 31 columns]"
      ],
      "text/html": "<div>\n<style scoped>\n    .dataframe tbody tr th:only-of-type {\n        vertical-align: middle;\n    }\n\n    .dataframe tbody tr th {\n        vertical-align: top;\n    }\n\n    .dataframe thead th {\n        text-align: right;\n    }\n</style>\n<table border=\"1\" class=\"dataframe\">\n  <thead>\n    <tr style=\"text-align: right;\">\n      <th></th>\n      <th>Time</th>\n      <th>V1</th>\n      <th>V2</th>\n      <th>V3</th>\n      <th>V4</th>\n      <th>V5</th>\n      <th>V6</th>\n      <th>V7</th>\n      <th>V8</th>\n      <th>V9</th>\n      <th>...</th>\n      <th>V21</th>\n      <th>V22</th>\n      <th>V23</th>\n      <th>V24</th>\n      <th>V25</th>\n      <th>V26</th>\n      <th>V27</th>\n      <th>V28</th>\n      <th>Amount</th>\n      <th>Class</th>\n    </tr>\n  </thead>\n  <tbody>\n    <tr>\n      <th>mean</th>\n      <td>80299.735488</td>\n      <td>-4.467342</td>\n      <td>3.468569</td>\n      <td>-6.646258</td>\n      <td>4.469444</td>\n      <td>-3.003841</td>\n      <td>-1.322793</td>\n      <td>-5.325636</td>\n      <td>0.591395</td>\n      <td>-2.527251</td>\n      <td>...</td>\n      <td>0.53693</td>\n      <td>0.127035</td>\n      <td>-0.052864</td>\n      <td>-0.096146</td>\n      <td>0.02826</td>\n      <td>0.057161</td>\n      <td>0.158841</td>\n      <td>0.067445</td>\n      <td>115.172265</td>\n      <td>1.0</td>\n    </tr>\n  </tbody>\n</table>\n<p>1 rows × 31 columns</p>\n</div>"
     },
     "metadata": {},
     "execution_count": 29
    }
   ],
   "source": [
    "df_fake_with_noise.describe().loc[['mean']]"
   ]
  },
  {
   "source": [
    "## Train Random Forest"
   ],
   "cell_type": "markdown",
   "metadata": {}
  },
  {
   "source": [
    "### Create three dataframes: the original, the original appended with fake_data, the original appended with fake data with noise "
   ],
   "cell_type": "markdown",
   "metadata": {}
  },
  {
   "cell_type": "code",
   "execution_count": 30,
   "metadata": {},
   "outputs": [],
   "source": [
    "train_df, test_df = train_test_split(df, test_size=0.3, random_state=42)\n",
    "train_df_fake = train_df.append(df_fake)\n",
    "train_df_fake_with_noise = train_df.append(df_fake_with_noise)"
   ]
  },
  {
   "source": [
    "### Train model on original data"
   ],
   "cell_type": "markdown",
   "metadata": {}
  },
  {
   "cell_type": "code",
   "execution_count": 31,
   "metadata": {},
   "outputs": [
    {
     "output_type": "execute_result",
     "data": {
      "text/plain": [
       "array([[85300,     7],\n",
       "       [   27,   109]], dtype=int64)"
      ]
     },
     "metadata": {},
     "execution_count": 31
    }
   ],
   "source": [
    "clf_original=RandomForestClassifier(n_estimators=100, max_features=0.5, min_samples_leaf=5, n_jobs=-1)\n",
    "\n",
    "#Train the model using the training sets y_pred=clf.predict(X_test)\n",
    "clf_original.fit(train_df.iloc[:,:30].values,train_df.iloc[:,30].values)\n",
    "\n",
    "y_pred_original=clf_original.predict(test_df.iloc[:,:30].values)\n",
    "\n",
    "confusion_matrix(test_df.iloc[:,30], y_pred_original)"
   ]
  },
  {
   "cell_type": "code",
   "execution_count": 32,
   "metadata": {},
   "outputs": [
    {
     "output_type": "execute_result",
     "data": {
      "text/plain": [
       "array([[85297,    10],\n",
       "       [   26,   110]], dtype=int64)"
      ]
     },
     "metadata": {},
     "execution_count": 32
    }
   ],
   "source": [
    "clf_fake=RandomForestClassifier(n_estimators=100, max_features=0.5, min_samples_leaf=5, n_jobs=-1)\n",
    "\n",
    "#Train the model using the training sets y_pred=clf.predict(X_test)\n",
    "clf_fake.fit(train_df_fake.iloc[:,:30].values,train_df_fake.iloc[:,30].values)\n",
    "\n",
    "y_pred_fake=clf_fake.predict(test_df.iloc[:,:30].values)\n",
    "\n",
    "confusion_matrix(test_df.iloc[:,30], y_pred_fake)"
   ]
  },
  {
   "cell_type": "code",
   "execution_count": 33,
   "metadata": {},
   "outputs": [
    {
     "output_type": "execute_result",
     "data": {
      "text/plain": [
       "array([[85297,    10],\n",
       "       [   26,   110]], dtype=int64)"
      ]
     },
     "metadata": {},
     "execution_count": 33
    }
   ],
   "source": [
    "clf_fake_with_noise=RandomForestClassifier(n_estimators=100, max_features=0.5, min_samples_leaf=5, n_jobs=-1)\n",
    "\n",
    "#Train the model using the training sets y_pred=clf.predict(X_test)\n",
    "clf_fake_with_noise.fit(train_df_fake_with_noise.iloc[:,:30].values,train_df_fake_with_noise.iloc[:,30].values)\n",
    "\n",
    "y_pred_fake_with_noise=clf_fake.predict(test_df.iloc[:,:30].values)\n",
    "\n",
    "confusion_matrix(test_df.iloc[:,30], y_pred_fake_with_noise)"
   ]
  },
  {
   "cell_type": "code",
   "execution_count": null,
   "metadata": {},
   "outputs": [],
   "source": []
  }
 ]
}