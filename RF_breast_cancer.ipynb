{
 "metadata": {
  "language_info": {
   "codemirror_mode": {
    "name": "ipython",
    "version": 3
   },
   "file_extension": ".py",
   "mimetype": "text/x-python",
   "name": "python",
   "nbconvert_exporter": "python",
   "pygments_lexer": "ipython3",
   "version": "3.9.2-final"
  },
  "orig_nbformat": 2,
  "kernelspec": {
   "name": "python392jvsc74a57bd0e1ea7b2c4390b6fc1a6745bf6c3375d16393508e059a95c8d09ca3ce58c8786e",
   "display_name": "Python 3.9.2 64-bit"
  }
 },
 "nbformat": 4,
 "nbformat_minor": 2,
 "cells": [
  {
   "cell_type": "code",
   "execution_count": 1,
   "metadata": {},
   "outputs": [],
   "source": [
    "import pandas as pd\n",
    "import numpy as np\n",
    "import torch\n",
    "from sklearn.model_selection import train_test_split\n",
    "from sklearn import preprocessing\n",
    "from sklearn.metrics import confusion_matrix\n",
    "import mlprepare as mlp\n",
    "import deep_tabular_augmentation as dta\n",
    "from torch.utils.data import Dataset, DataLoader\n",
    "from sklearn.ensemble import RandomForestClassifier"
   ]
  },
  {
   "cell_type": "code",
   "execution_count": 2,
   "metadata": {},
   "outputs": [],
   "source": [
    "device = torch.device('cuda' if torch.cuda.is_available() else 'cpu')\n",
    "\n",
    "DATA_PATH = 'data/breast-cancer.csv'\n",
    "\n",
    "df = pd.read_csv(DATA_PATH)"
   ]
  },
  {
   "cell_type": "code",
   "execution_count": 3,
   "metadata": {},
   "outputs": [
    {
     "output_type": "execute_result",
     "data": {
      "text/plain": [
       "     age mefalsepause tumor-size inv-falsedes falsede-caps  deg-malig breast  \\\n",
       "0  40-49   premefalse      15-19          0-2         True          3  right   \n",
       "1  50-59         ge40      15-19          0-2        False          1  right   \n",
       "2  50-59         ge40      35-39          0-2        False          2   left   \n",
       "3  40-49   premefalse      35-39          0-2         True          3  right   \n",
       "4  40-49   premefalse      30-34          3-5         True          2   left   \n",
       "\n",
       "  breast-quad  irradiat                    class  \n",
       "0     left_up     False        recurrence-events  \n",
       "1     central     False  false-recurrence-events  \n",
       "2    left_low     False        recurrence-events  \n",
       "3    left_low      True  false-recurrence-events  \n",
       "4    right_up     False        recurrence-events  "
      ],
      "text/html": "<div>\n<style scoped>\n    .dataframe tbody tr th:only-of-type {\n        vertical-align: middle;\n    }\n\n    .dataframe tbody tr th {\n        vertical-align: top;\n    }\n\n    .dataframe thead th {\n        text-align: right;\n    }\n</style>\n<table border=\"1\" class=\"dataframe\">\n  <thead>\n    <tr style=\"text-align: right;\">\n      <th></th>\n      <th>age</th>\n      <th>mefalsepause</th>\n      <th>tumor-size</th>\n      <th>inv-falsedes</th>\n      <th>falsede-caps</th>\n      <th>deg-malig</th>\n      <th>breast</th>\n      <th>breast-quad</th>\n      <th>irradiat</th>\n      <th>class</th>\n    </tr>\n  </thead>\n  <tbody>\n    <tr>\n      <th>0</th>\n      <td>40-49</td>\n      <td>premefalse</td>\n      <td>15-19</td>\n      <td>0-2</td>\n      <td>True</td>\n      <td>3</td>\n      <td>right</td>\n      <td>left_up</td>\n      <td>False</td>\n      <td>recurrence-events</td>\n    </tr>\n    <tr>\n      <th>1</th>\n      <td>50-59</td>\n      <td>ge40</td>\n      <td>15-19</td>\n      <td>0-2</td>\n      <td>False</td>\n      <td>1</td>\n      <td>right</td>\n      <td>central</td>\n      <td>False</td>\n      <td>false-recurrence-events</td>\n    </tr>\n    <tr>\n      <th>2</th>\n      <td>50-59</td>\n      <td>ge40</td>\n      <td>35-39</td>\n      <td>0-2</td>\n      <td>False</td>\n      <td>2</td>\n      <td>left</td>\n      <td>left_low</td>\n      <td>False</td>\n      <td>recurrence-events</td>\n    </tr>\n    <tr>\n      <th>3</th>\n      <td>40-49</td>\n      <td>premefalse</td>\n      <td>35-39</td>\n      <td>0-2</td>\n      <td>True</td>\n      <td>3</td>\n      <td>right</td>\n      <td>left_low</td>\n      <td>True</td>\n      <td>false-recurrence-events</td>\n    </tr>\n    <tr>\n      <th>4</th>\n      <td>40-49</td>\n      <td>premefalse</td>\n      <td>30-34</td>\n      <td>3-5</td>\n      <td>True</td>\n      <td>2</td>\n      <td>left</td>\n      <td>right_up</td>\n      <td>False</td>\n      <td>recurrence-events</td>\n    </tr>\n  </tbody>\n</table>\n</div>"
     },
     "metadata": {},
     "execution_count": 3
    }
   ],
   "source": [
    "df.head()"
   ]
  },
  {
   "cell_type": "code",
   "execution_count": 4,
   "metadata": {},
   "outputs": [],
   "source": [
    "cols = df.columns"
   ]
  },
  {
   "cell_type": "code",
   "execution_count": 5,
   "metadata": {},
   "outputs": [],
   "source": [
    "df['class'] = np.where(df['class']=='false-recurrence-events', 0, 1)"
   ]
  },
  {
   "cell_type": "code",
   "execution_count": 6,
   "metadata": {},
   "outputs": [
    {
     "output_type": "execute_result",
     "data": {
      "text/plain": [
       "110"
      ]
     },
     "metadata": {},
     "execution_count": 6
    }
   ],
   "source": [
    "difference_in_class_occurences = df['class'].value_counts()[0]-df['class'].value_counts()[1]\n",
    "difference_in_class_occurences"
   ]
  },
  {
   "source": [
    "I would actually need another Autoencoder for that which can handle categorical values as input via embedding layer."
   ],
   "cell_type": "markdown",
   "metadata": {}
  },
  {
   "cell_type": "code",
   "execution_count": 7,
   "metadata": {},
   "outputs": [],
   "source": [
    "continuous_type = ['deg-malig']\n",
    "categorical_type = ['age', 'mefalsepause', 'tumor-size', 'inv-falsedes', 'breast', 'breast-quad']\n",
    "target_var = 'class'"
   ]
  },
  {
   "cell_type": "code",
   "execution_count": 8,
   "metadata": {},
   "outputs": [],
   "source": [
    "df = mlp.df_to_type(df, cont_type=continuous_type, cat_type=categorical_type)"
   ]
  },
  {
   "cell_type": "code",
   "execution_count": 9,
   "metadata": {},
   "outputs": [],
   "source": [
    "train_df, test_df = train_test_split(df, test_size=0.3, random_state=42)"
   ]
  },
  {
   "cell_type": "code",
   "execution_count": 10,
   "metadata": {},
   "outputs": [],
   "source": [
    "train_df, test_df, dict_list, dict_inv_list = mlp.cat_transform(train_df, test_df, cat_type = categorical_type)"
   ]
  },
  {
   "cell_type": "code",
   "execution_count": 11,
   "metadata": {},
   "outputs": [
    {
     "output_type": "execute_result",
     "data": {
      "text/plain": [
       "     age  mefalsepause  tumor-size  inv-falsedes falsede-caps  deg-malig  \\\n",
       "251    3             3           4             5         True          2   \n",
       "92     2             3           8             1        False          1   \n",
       "201    3             1           6             5        False          3   \n",
       "126    1             3           7             1        False          2   \n",
       "124    5             1           3             1        False          2   \n",
       "\n",
       "     breast  breast-quad  irradiat  class  \n",
       "251       2            5      True      1  \n",
       "92        1            3     False      1  \n",
       "201       1            2     False      1  \n",
       "126       2            5     False      0  \n",
       "124       2            2     False      0  "
      ],
      "text/html": "<div>\n<style scoped>\n    .dataframe tbody tr th:only-of-type {\n        vertical-align: middle;\n    }\n\n    .dataframe tbody tr th {\n        vertical-align: top;\n    }\n\n    .dataframe thead th {\n        text-align: right;\n    }\n</style>\n<table border=\"1\" class=\"dataframe\">\n  <thead>\n    <tr style=\"text-align: right;\">\n      <th></th>\n      <th>age</th>\n      <th>mefalsepause</th>\n      <th>tumor-size</th>\n      <th>inv-falsedes</th>\n      <th>falsede-caps</th>\n      <th>deg-malig</th>\n      <th>breast</th>\n      <th>breast-quad</th>\n      <th>irradiat</th>\n      <th>class</th>\n    </tr>\n  </thead>\n  <tbody>\n    <tr>\n      <th>251</th>\n      <td>3</td>\n      <td>3</td>\n      <td>4</td>\n      <td>5</td>\n      <td>True</td>\n      <td>2</td>\n      <td>2</td>\n      <td>5</td>\n      <td>True</td>\n      <td>1</td>\n    </tr>\n    <tr>\n      <th>92</th>\n      <td>2</td>\n      <td>3</td>\n      <td>8</td>\n      <td>1</td>\n      <td>False</td>\n      <td>1</td>\n      <td>1</td>\n      <td>3</td>\n      <td>False</td>\n      <td>1</td>\n    </tr>\n    <tr>\n      <th>201</th>\n      <td>3</td>\n      <td>1</td>\n      <td>6</td>\n      <td>5</td>\n      <td>False</td>\n      <td>3</td>\n      <td>1</td>\n      <td>2</td>\n      <td>False</td>\n      <td>1</td>\n    </tr>\n    <tr>\n      <th>126</th>\n      <td>1</td>\n      <td>3</td>\n      <td>7</td>\n      <td>1</td>\n      <td>False</td>\n      <td>2</td>\n      <td>2</td>\n      <td>5</td>\n      <td>False</td>\n      <td>0</td>\n    </tr>\n    <tr>\n      <th>124</th>\n      <td>5</td>\n      <td>1</td>\n      <td>3</td>\n      <td>1</td>\n      <td>False</td>\n      <td>2</td>\n      <td>2</td>\n      <td>2</td>\n      <td>False</td>\n      <td>0</td>\n    </tr>\n  </tbody>\n</table>\n</div>"
     },
     "metadata": {},
     "execution_count": 11
    }
   ],
   "source": [
    "train_df=train_df.fillna(0)\n",
    "test_df=test_df.fillna(0)\n",
    "train_df.head()"
   ]
  },
  {
   "source": [
    "Here, I treat categorical variables as if they were continuous"
   ],
   "cell_type": "markdown",
   "metadata": {}
  },
  {
   "cell_type": "code",
   "execution_count": 12,
   "metadata": {},
   "outputs": [],
   "source": [
    "X_train, X_test, y_train, y_test, scaler = mlp.cont_standardize(train_df[train_df['class']==1].iloc[:,:9], test_df[test_df['class']==1].iloc[:,:9], train_df[train_df['class']==1].iloc[:,9], test_df[test_df['class']==1].iloc[:,9], cat_type=None, transform_y=False, path='scaler_objects', standardizer='StandardScaler')\n"
   ]
  },
  {
   "source": [
    "Inbalanced Class -> recurrence-events "
   ],
   "cell_type": "markdown",
   "metadata": {}
  },
  {
   "source": [
    "I want to create data for the underrepresented class -> Class=1"
   ],
   "cell_type": "markdown",
   "metadata": {}
  },
  {
   "cell_type": "code",
   "execution_count": 13,
   "metadata": {},
   "outputs": [],
   "source": [
    "class DataBuilder(Dataset):\n",
    "    def __init__(self, X_train, X_test, y_train, y_test, train=True):\n",
    "        self.X_train, self.X_test, self.y_train, self.y_test = X_train, X_test, y_train, y_test\n",
    "        if train:\n",
    "            self.X_train['class']=self.y_train\n",
    "            self.x = torch.from_numpy(self.X_train.values).type(torch.FloatTensor)\n",
    "            self.len=self.x.shape[0]\n",
    "        else:\n",
    "            self.X_test['class']=self.y_test\n",
    "            self.x = torch.from_numpy(self.X_test.values).type(torch.FloatTensor)\n",
    "            self.len=self.x.shape[0]\n",
    "        del self.X_train\n",
    "        del self.X_test\n",
    "        del self.y_train\n",
    "        del self.y_test \n",
    "    def __getitem__(self,index):      \n",
    "        return self.x[index]\n",
    "    def __len__(self):\n",
    "        return self.len"
   ]
  },
  {
   "cell_type": "code",
   "execution_count": 14,
   "metadata": {},
   "outputs": [],
   "source": [
    "traindata_set=DataBuilder(X_train, X_test, y_train, y_test, train=True)\n",
    "testdata_set=DataBuilder(X_train, X_test, y_train, y_test, train=False)\n",
    "\n",
    "trainloader=DataLoader(dataset=traindata_set,batch_size=1024)\n",
    "testloader=DataLoader(dataset=testdata_set,batch_size=1024)"
   ]
  },
  {
   "cell_type": "code",
   "execution_count": 15,
   "metadata": {},
   "outputs": [
    {
     "output_type": "execute_result",
     "data": {
      "text/plain": [
       "tensor([[-0.5152,  0.9253, -0.7024,  0.8244,  1.3784, -0.4921,  1.1094,  1.8507,\n",
       "          1.1902,  1.0000]])"
      ]
     },
     "metadata": {},
     "execution_count": 15
    }
   ],
   "source": [
    "trainloader.dataset.x[:1]"
   ]
  },
  {
   "cell_type": "code",
   "execution_count": 16,
   "metadata": {},
   "outputs": [],
   "source": [
    "D_in = traindata_set.x.shape[1]\n",
    "H = 50\n",
    "H2 = 12\n",
    "\n",
    "autoenc_model = dta.AutoencoderModel(trainloader, testloader, device, D_in, H, H2, latent_dim=5)"
   ]
  },
  {
   "cell_type": "code",
   "execution_count": 17,
   "metadata": {},
   "outputs": [
    {
     "output_type": "stream",
     "name": "stdout",
     "text": [
      "====> Epoch: 200 Average training loss: 11.6488\n",
      "====> Epoch: 200 Average test loss: 13.1494\n",
      "====> Epoch: 400 Average training loss: 9.4948\n",
      "====> Epoch: 400 Average test loss: 11.8729\n",
      "====> Epoch: 600 Average training loss: 8.5165\n",
      "====> Epoch: 600 Average test loss: 9.9916\n",
      "====> Epoch: 800 Average training loss: 7.6626\n",
      "====> Epoch: 800 Average test loss: 9.1584\n",
      "====> Epoch: 1000 Average training loss: 7.5808\n",
      "====> Epoch: 1000 Average test loss: 8.8292\n"
     ]
    }
   ],
   "source": [
    "autoenc_model_fit = autoenc_model.fit(epochs=1000)"
   ]
  },
  {
   "source": [
    "Let's see how the created data looks like:"
   ],
   "cell_type": "markdown",
   "metadata": {}
  },
  {
   "cell_type": "code",
   "execution_count": 18,
   "metadata": {},
   "outputs": [],
   "source": [
    "cols_fake = cols.to_list()\n",
    "cols_fake.remove('class')"
   ]
  },
  {
   "cell_type": "code",
   "execution_count": 19,
   "metadata": {},
   "outputs": [
    {
     "output_type": "execute_result",
     "data": {
      "text/plain": [
       "        age  mefalsepause  tumor-size  inv-falsedes  falsede-caps  deg-malig  \\\n",
       "0  3.768765      1.789621    5.954432      3.557696      0.335189   2.816264   \n",
       "1  3.601908      1.738391    5.308001      4.684163      0.876896   2.745014   \n",
       "2  3.675290      1.795950    5.635921      4.462675      0.721442   2.633552   \n",
       "3  3.976300      1.491766    4.638551      5.092431      0.850323   2.709341   \n",
       "4  3.609183      1.797875    5.511171      4.203802      0.681211   2.723525   \n",
       "\n",
       "     breast  breast-quad  irradiat  class  \n",
       "0  1.749215     2.806577  0.251433      1  \n",
       "1  1.343948     3.642051  0.706808      1  \n",
       "2  1.641513     3.716826  0.451245      1  \n",
       "3  0.989822     3.117360  0.951091      1  \n",
       "4  1.467588     3.781805  0.583659      1  "
      ],
      "text/html": "<div>\n<style scoped>\n    .dataframe tbody tr th:only-of-type {\n        vertical-align: middle;\n    }\n\n    .dataframe tbody tr th {\n        vertical-align: top;\n    }\n\n    .dataframe thead th {\n        text-align: right;\n    }\n</style>\n<table border=\"1\" class=\"dataframe\">\n  <thead>\n    <tr style=\"text-align: right;\">\n      <th></th>\n      <th>age</th>\n      <th>mefalsepause</th>\n      <th>tumor-size</th>\n      <th>inv-falsedes</th>\n      <th>falsede-caps</th>\n      <th>deg-malig</th>\n      <th>breast</th>\n      <th>breast-quad</th>\n      <th>irradiat</th>\n      <th>class</th>\n    </tr>\n  </thead>\n  <tbody>\n    <tr>\n      <th>0</th>\n      <td>3.768765</td>\n      <td>1.789621</td>\n      <td>5.954432</td>\n      <td>3.557696</td>\n      <td>0.335189</td>\n      <td>2.816264</td>\n      <td>1.749215</td>\n      <td>2.806577</td>\n      <td>0.251433</td>\n      <td>1</td>\n    </tr>\n    <tr>\n      <th>1</th>\n      <td>3.601908</td>\n      <td>1.738391</td>\n      <td>5.308001</td>\n      <td>4.684163</td>\n      <td>0.876896</td>\n      <td>2.745014</td>\n      <td>1.343948</td>\n      <td>3.642051</td>\n      <td>0.706808</td>\n      <td>1</td>\n    </tr>\n    <tr>\n      <th>2</th>\n      <td>3.675290</td>\n      <td>1.795950</td>\n      <td>5.635921</td>\n      <td>4.462675</td>\n      <td>0.721442</td>\n      <td>2.633552</td>\n      <td>1.641513</td>\n      <td>3.716826</td>\n      <td>0.451245</td>\n      <td>1</td>\n    </tr>\n    <tr>\n      <th>3</th>\n      <td>3.976300</td>\n      <td>1.491766</td>\n      <td>4.638551</td>\n      <td>5.092431</td>\n      <td>0.850323</td>\n      <td>2.709341</td>\n      <td>0.989822</td>\n      <td>3.117360</td>\n      <td>0.951091</td>\n      <td>1</td>\n    </tr>\n    <tr>\n      <th>4</th>\n      <td>3.609183</td>\n      <td>1.797875</td>\n      <td>5.511171</td>\n      <td>4.203802</td>\n      <td>0.681211</td>\n      <td>2.723525</td>\n      <td>1.467588</td>\n      <td>3.781805</td>\n      <td>0.583659</td>\n      <td>1</td>\n    </tr>\n  </tbody>\n</table>\n</div>"
     },
     "metadata": {},
     "execution_count": 19
    }
   ],
   "source": [
    "df_fake = autoenc_model_fit.predict_df(no_samples=difference_in_class_occurences, scaler=scaler, cols=cols, target_class=target_var, cont_vars=cols_fake)\n",
    "\n",
    "df_fake.head()"
   ]
  },
  {
   "source": [
    "Now the data with random noise:"
   ],
   "cell_type": "markdown",
   "metadata": {}
  },
  {
   "cell_type": "code",
   "execution_count": 20,
   "metadata": {},
   "outputs": [
    {
     "output_type": "execute_result",
     "data": {
      "text/plain": [
       "        age  mefalsepause  tumor-size  inv-falsedes  falsede-caps  deg-malig  \\\n",
       "0  3.768765      1.789621    5.954432      3.557696      0.335189   2.816264   \n",
       "1  3.601908      1.738391    5.308001      4.684163      0.876896   2.745014   \n",
       "2  3.675290      1.795950    5.635921      4.462675      0.721442   2.633552   \n",
       "3  3.976300      1.491766    4.638551      5.092431      0.850323   2.709341   \n",
       "4  3.609183      1.797875    5.511171      4.203802      0.681211   2.723525   \n",
       "\n",
       "     breast  breast-quad  irradiat  class  \n",
       "0  1.749215     2.806577  0.251433      1  \n",
       "1  1.343948     3.642051  0.706808      1  \n",
       "2  1.641513     3.716826  0.451245      1  \n",
       "3  0.989822     3.117360  0.951091      1  \n",
       "4  1.467588     3.781805  0.583659      1  "
      ],
      "text/html": "<div>\n<style scoped>\n    .dataframe tbody tr th:only-of-type {\n        vertical-align: middle;\n    }\n\n    .dataframe tbody tr th {\n        vertical-align: top;\n    }\n\n    .dataframe thead th {\n        text-align: right;\n    }\n</style>\n<table border=\"1\" class=\"dataframe\">\n  <thead>\n    <tr style=\"text-align: right;\">\n      <th></th>\n      <th>age</th>\n      <th>mefalsepause</th>\n      <th>tumor-size</th>\n      <th>inv-falsedes</th>\n      <th>falsede-caps</th>\n      <th>deg-malig</th>\n      <th>breast</th>\n      <th>breast-quad</th>\n      <th>irradiat</th>\n      <th>class</th>\n    </tr>\n  </thead>\n  <tbody>\n    <tr>\n      <th>0</th>\n      <td>3.768765</td>\n      <td>1.789621</td>\n      <td>5.954432</td>\n      <td>3.557696</td>\n      <td>0.335189</td>\n      <td>2.816264</td>\n      <td>1.749215</td>\n      <td>2.806577</td>\n      <td>0.251433</td>\n      <td>1</td>\n    </tr>\n    <tr>\n      <th>1</th>\n      <td>3.601908</td>\n      <td>1.738391</td>\n      <td>5.308001</td>\n      <td>4.684163</td>\n      <td>0.876896</td>\n      <td>2.745014</td>\n      <td>1.343948</td>\n      <td>3.642051</td>\n      <td>0.706808</td>\n      <td>1</td>\n    </tr>\n    <tr>\n      <th>2</th>\n      <td>3.675290</td>\n      <td>1.795950</td>\n      <td>5.635921</td>\n      <td>4.462675</td>\n      <td>0.721442</td>\n      <td>2.633552</td>\n      <td>1.641513</td>\n      <td>3.716826</td>\n      <td>0.451245</td>\n      <td>1</td>\n    </tr>\n    <tr>\n      <th>3</th>\n      <td>3.976300</td>\n      <td>1.491766</td>\n      <td>4.638551</td>\n      <td>5.092431</td>\n      <td>0.850323</td>\n      <td>2.709341</td>\n      <td>0.989822</td>\n      <td>3.117360</td>\n      <td>0.951091</td>\n      <td>1</td>\n    </tr>\n    <tr>\n      <th>4</th>\n      <td>3.609183</td>\n      <td>1.797875</td>\n      <td>5.511171</td>\n      <td>4.203802</td>\n      <td>0.681211</td>\n      <td>2.723525</td>\n      <td>1.467588</td>\n      <td>3.781805</td>\n      <td>0.583659</td>\n      <td>1</td>\n    </tr>\n  </tbody>\n</table>\n</div>"
     },
     "metadata": {},
     "execution_count": 20
    }
   ],
   "source": [
    "df_fake_with_noise = autoenc_model_fit.predict_with_noise_df(no_samples=difference_in_class_occurences, mu=0, sigma=0.05, scaler=scaler, cols=cols, cont_vars=cols_fake, target_class=target_var, group_var='class')\n",
    "df_fake.head()"
   ]
  },
  {
   "cell_type": "code",
   "execution_count": 21,
   "metadata": {},
   "outputs": [
    {
     "output_type": "execute_result",
     "data": {
      "text/plain": [
       "           age  mefalsepause  tumor-size  inv-falsedes  falsede-caps  \\\n",
       "mean  3.534483      2.086207    5.379311      3.086207      0.344828   \n",
       "\n",
       "      deg-malig    breast  breast-quad  irradiat  class  \n",
       "mean   2.362069  1.448276      2.87931  0.413793    1.0  "
      ],
      "text/html": "<div>\n<style scoped>\n    .dataframe tbody tr th:only-of-type {\n        vertical-align: middle;\n    }\n\n    .dataframe tbody tr th {\n        vertical-align: top;\n    }\n\n    .dataframe thead th {\n        text-align: right;\n    }\n</style>\n<table border=\"1\" class=\"dataframe\">\n  <thead>\n    <tr style=\"text-align: right;\">\n      <th></th>\n      <th>age</th>\n      <th>mefalsepause</th>\n      <th>tumor-size</th>\n      <th>inv-falsedes</th>\n      <th>falsede-caps</th>\n      <th>deg-malig</th>\n      <th>breast</th>\n      <th>breast-quad</th>\n      <th>irradiat</th>\n      <th>class</th>\n    </tr>\n  </thead>\n  <tbody>\n    <tr>\n      <th>mean</th>\n      <td>3.534483</td>\n      <td>2.086207</td>\n      <td>5.379311</td>\n      <td>3.086207</td>\n      <td>0.344828</td>\n      <td>2.362069</td>\n      <td>1.448276</td>\n      <td>2.87931</td>\n      <td>0.413793</td>\n      <td>1.0</td>\n    </tr>\n  </tbody>\n</table>\n</div>"
     },
     "metadata": {},
     "execution_count": 21
    }
   ],
   "source": [
    "df_fake.describe().loc[['mean']]"
   ]
  },
  {
   "cell_type": "code",
   "execution_count": 22,
   "metadata": {},
   "outputs": [
    {
     "output_type": "execute_result",
     "data": {
      "text/plain": [
       "           age  mefalsepause  tumor-size  inv-falsedes  falsede-caps  \\\n",
       "mean  3.543073      2.091206    5.415247      3.092878      0.345563   \n",
       "\n",
       "      deg-malig    breast  breast-quad  irradiat  class  \n",
       "mean   2.365449  1.444211      2.89474  0.409515    1.0  "
      ],
      "text/html": "<div>\n<style scoped>\n    .dataframe tbody tr th:only-of-type {\n        vertical-align: middle;\n    }\n\n    .dataframe tbody tr th {\n        vertical-align: top;\n    }\n\n    .dataframe thead th {\n        text-align: right;\n    }\n</style>\n<table border=\"1\" class=\"dataframe\">\n  <thead>\n    <tr style=\"text-align: right;\">\n      <th></th>\n      <th>age</th>\n      <th>mefalsepause</th>\n      <th>tumor-size</th>\n      <th>inv-falsedes</th>\n      <th>falsede-caps</th>\n      <th>deg-malig</th>\n      <th>breast</th>\n      <th>breast-quad</th>\n      <th>irradiat</th>\n      <th>class</th>\n    </tr>\n  </thead>\n  <tbody>\n    <tr>\n      <th>mean</th>\n      <td>3.543073</td>\n      <td>2.091206</td>\n      <td>5.415247</td>\n      <td>3.092878</td>\n      <td>0.345563</td>\n      <td>2.365449</td>\n      <td>1.444211</td>\n      <td>2.89474</td>\n      <td>0.409515</td>\n      <td>1.0</td>\n    </tr>\n  </tbody>\n</table>\n</div>"
     },
     "metadata": {},
     "execution_count": 22
    }
   ],
   "source": [
    "df_fake_with_noise.describe().loc[['mean']]"
   ]
  },
  {
   "source": [
    "## Train Random Forest"
   ],
   "cell_type": "markdown",
   "metadata": {}
  },
  {
   "source": [
    "### Create three dataframes: the original, the original appended with fake_data, the original appended with fake data with noise "
   ],
   "cell_type": "markdown",
   "metadata": {}
  },
  {
   "cell_type": "code",
   "execution_count": 23,
   "metadata": {},
   "outputs": [],
   "source": [
    "train_df_fake = train_df.append(df_fake)\n",
    "train_df_fake_with_noise = train_df.append(df_fake_with_noise)"
   ]
  },
  {
   "source": [
    "### Train model on original data"
   ],
   "cell_type": "markdown",
   "metadata": {}
  },
  {
   "cell_type": "code",
   "execution_count": 24,
   "metadata": {},
   "outputs": [
    {
     "output_type": "execute_result",
     "data": {
      "text/plain": [
       "array([[55,  4],\n",
       "       [15,  8]], dtype=int64)"
      ]
     },
     "metadata": {},
     "execution_count": 24
    }
   ],
   "source": [
    "clf_original=RandomForestClassifier(n_estimators=100, max_features=0.5, min_samples_leaf=5, n_jobs=-1)\n",
    "\n",
    "#Train the model using the training sets y_pred=clf.predict(X_test)\n",
    "clf_original.fit(train_df.iloc[:,:9].values,train_df.iloc[:,9].values)\n",
    "\n",
    "y_pred_original=clf_original.predict(test_df.iloc[:,:9].values)\n",
    "\n",
    "confusion_matrix(test_df.iloc[:,9], y_pred_original)"
   ]
  },
  {
   "cell_type": "code",
   "execution_count": 28,
   "metadata": {},
   "outputs": [
    {
     "output_type": "execute_result",
     "data": {
      "text/plain": [
       "array([[55,  4],\n",
       "       [14,  9]], dtype=int64)"
      ]
     },
     "metadata": {},
     "execution_count": 28
    }
   ],
   "source": [
    "clf_fake=RandomForestClassifier(n_estimators=100, max_features=0.5, min_samples_leaf=5, n_jobs=-1)\n",
    "\n",
    "#Train the model using the training sets y_pred=clf.predict(X_test)\n",
    "clf_fake.fit(train_df_fake.iloc[:,:9].values,train_df_fake.iloc[:,9].values)\n",
    "\n",
    "y_pred_fake=clf_fake.predict(test_df.iloc[:,:9].values)\n",
    "\n",
    "confusion_matrix(test_df.iloc[:,9], y_pred_fake)"
   ]
  },
  {
   "cell_type": "code",
   "execution_count": 29,
   "metadata": {},
   "outputs": [
    {
     "output_type": "execute_result",
     "data": {
      "text/plain": [
       "array([[55,  4],\n",
       "       [14,  9]], dtype=int64)"
      ]
     },
     "metadata": {},
     "execution_count": 29
    }
   ],
   "source": [
    "#Create a Gaussian Classifier\n",
    "clf_fake_with_noise=RandomForestClassifier(n_estimators=100, max_features=0.5, min_samples_leaf=5, n_jobs=-1)\n",
    "\n",
    "#Train the model using the training sets y_pred=clf.predict(X_test)\n",
    "clf_fake_with_noise.fit(train_df_fake_with_noise.iloc[:,:9].values,train_df_fake_with_noise.iloc[:,9].values)\n",
    "\n",
    "y_pred_fake_with_noise=clf_fake.predict(test_df.iloc[:,:9].values)\n",
    "\n",
    "confusion_matrix(test_df.iloc[:,9], y_pred_fake_with_noise)"
   ]
  },
  {
   "cell_type": "code",
   "execution_count": null,
   "metadata": {},
   "outputs": [],
   "source": []
  }
 ]
}